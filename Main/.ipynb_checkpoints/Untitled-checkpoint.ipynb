{
 "cells": [
  {
   "cell_type": "code",
   "execution_count": 1,
   "id": "b371c6a5",
   "metadata": {},
   "outputs": [],
   "source": [
    "import pandas as pd\n",
    "import numpy as np \n",
    "import matplotlib.pyplot as plt\n",
    "import seaborn as sns\n",
    "import folium\n",
    "from sklearn.cluster import KMeans, DBSCAN\n",
    "from sklearn.metrics import silhouette_score\n",
    "from sklearn.metrics import mean_squared_error\n",
    "import hdbscan\n",
    "cols = ['#e6194b', '#3cb44b', '#ffe119', '#4363d8', '#f58231', '#911eb4',\n",
    "        '#46f0f0', '#f032e6', '#bcf60c', '#fabebe', '#008080', '#e6beff', \n",
    "        '#9a6324', '#fffac8', '#800000', '#aaffc3', '#808000', '#ffd8b1', \n",
    "        '#000075', '#808080']*100\n",
    "sns.set(style=\"white\")"
   ]
  },
  {
   "cell_type": "code",
   "execution_count": 2,
   "id": "b2f5c98c",
   "metadata": {},
   "outputs": [],
   "source": [
    "df = pd.read_csv('twitter_posts.csv')"
   ]
  },
  {
   "cell_type": "code",
   "execution_count": 3,
   "id": "118d567e",
   "metadata": {},
   "outputs": [
    {
     "name": "stdout",
     "output_type": "stream",
     "text": [
      "(1803, 6)\n"
     ]
    }
   ],
   "source": [
    "print(df.shape)"
   ]
  },
  {
   "cell_type": "code",
   "execution_count": 4,
   "id": "cdad6ad2",
   "metadata": {},
   "outputs": [
    {
     "data": {
      "text/html": [
       "<div>\n",
       "<style scoped>\n",
       "    .dataframe tbody tr th:only-of-type {\n",
       "        vertical-align: middle;\n",
       "    }\n",
       "\n",
       "    .dataframe tbody tr th {\n",
       "        vertical-align: top;\n",
       "    }\n",
       "\n",
       "    .dataframe thead th {\n",
       "        text-align: right;\n",
       "    }\n",
       "</style>\n",
       "<table border=\"1\" class=\"dataframe\">\n",
       "  <thead>\n",
       "    <tr style=\"text-align: right;\">\n",
       "      <th></th>\n",
       "      <th>Date</th>\n",
       "      <th>Username</th>\n",
       "      <th>longitude</th>\n",
       "      <th>latitude</th>\n",
       "      <th>city</th>\n",
       "      <th>country</th>\n",
       "    </tr>\n",
       "  </thead>\n",
       "  <tbody>\n",
       "    <tr>\n",
       "      <th>0</th>\n",
       "      <td>2023-03-18 16:28:04+00:00</td>\n",
       "      <td>RokebyM</td>\n",
       "      <td>67.997691</td>\n",
       "      <td>6.622513</td>\n",
       "      <td>India'</td>\n",
       "      <td>India</td>\n",
       "    </tr>\n",
       "    <tr>\n",
       "      <th>1</th>\n",
       "      <td>2023-03-18 11:20:07+00:00</td>\n",
       "      <td>watwijm</td>\n",
       "      <td>94.944302</td>\n",
       "      <td>26.649359</td>\n",
       "      <td>Arunachal Pradesh</td>\n",
       "      <td>India</td>\n",
       "    </tr>\n",
       "    <tr>\n",
       "      <th>2</th>\n",
       "      <td>2023-03-18 11:05:10+00:00</td>\n",
       "      <td>travelwitharyan</td>\n",
       "      <td>72.206516</td>\n",
       "      <td>27.698326</td>\n",
       "      <td>Bikaner</td>\n",
       "      <td>India</td>\n",
       "    </tr>\n",
       "    <tr>\n",
       "      <th>3</th>\n",
       "      <td>2023-03-18 11:03:32+00:00</td>\n",
       "      <td>travelwitharyan</td>\n",
       "      <td>72.206516</td>\n",
       "      <td>27.698326</td>\n",
       "      <td>Bikaner</td>\n",
       "      <td>India</td>\n",
       "    </tr>\n",
       "    <tr>\n",
       "      <th>4</th>\n",
       "      <td>2023-03-18 08:44:42+00:00</td>\n",
       "      <td>NSivapriyan2141</td>\n",
       "      <td>77.312066</td>\n",
       "      <td>8.230492</td>\n",
       "      <td>Padmanabhapuram</td>\n",
       "      <td>India</td>\n",
       "    </tr>\n",
       "    <tr>\n",
       "      <th>5</th>\n",
       "      <td>2023-03-17 14:38:59+00:00</td>\n",
       "      <td>tourism_udupi</td>\n",
       "      <td>74.667323</td>\n",
       "      <td>13.086056</td>\n",
       "      <td>Udupi</td>\n",
       "      <td>India</td>\n",
       "    </tr>\n",
       "    <tr>\n",
       "      <th>6</th>\n",
       "      <td>2023-03-17 12:05:03+00:00</td>\n",
       "      <td>onsvlogs</td>\n",
       "      <td>85.832496</td>\n",
       "      <td>21.544342</td>\n",
       "      <td>West Bengal</td>\n",
       "      <td>India</td>\n",
       "    </tr>\n",
       "    <tr>\n",
       "      <th>7</th>\n",
       "      <td>2023-03-17 07:28:46+00:00</td>\n",
       "      <td>RokebyM</td>\n",
       "      <td>67.997691</td>\n",
       "      <td>6.622513</td>\n",
       "      <td>India'</td>\n",
       "      <td>India</td>\n",
       "    </tr>\n",
       "    <tr>\n",
       "      <th>8</th>\n",
       "      <td>2023-03-17 02:31:04+00:00</td>\n",
       "      <td>jaydeep_dey03</td>\n",
       "      <td>90.939097</td>\n",
       "      <td>25.722728</td>\n",
       "      <td>Guwahati</td>\n",
       "      <td>India</td>\n",
       "    </tr>\n",
       "    <tr>\n",
       "      <th>9</th>\n",
       "      <td>2023-03-16 16:16:44+00:00</td>\n",
       "      <td>flywithheritage</td>\n",
       "      <td>77.882808</td>\n",
       "      <td>30.227984</td>\n",
       "      <td>Dehradun</td>\n",
       "      <td>India</td>\n",
       "    </tr>\n",
       "  </tbody>\n",
       "</table>\n",
       "</div>"
      ],
      "text/plain": [
       "                        Date         Username  longitude   latitude  \\\n",
       "0  2023-03-18 16:28:04+00:00          RokebyM  67.997691   6.622513   \n",
       "1  2023-03-18 11:20:07+00:00          watwijm  94.944302  26.649359   \n",
       "2  2023-03-18 11:05:10+00:00  travelwitharyan  72.206516  27.698326   \n",
       "3  2023-03-18 11:03:32+00:00  travelwitharyan  72.206516  27.698326   \n",
       "4  2023-03-18 08:44:42+00:00  NSivapriyan2141  77.312066   8.230492   \n",
       "5  2023-03-17 14:38:59+00:00    tourism_udupi  74.667323  13.086056   \n",
       "6  2023-03-17 12:05:03+00:00         onsvlogs  85.832496  21.544342   \n",
       "7  2023-03-17 07:28:46+00:00          RokebyM  67.997691   6.622513   \n",
       "8  2023-03-17 02:31:04+00:00    jaydeep_dey03  90.939097  25.722728   \n",
       "9  2023-03-16 16:16:44+00:00  flywithheritage  77.882808  30.227984   \n",
       "\n",
       "                city country  \n",
       "0             India'   India  \n",
       "1  Arunachal Pradesh   India  \n",
       "2            Bikaner   India  \n",
       "3            Bikaner   India  \n",
       "4    Padmanabhapuram   India  \n",
       "5              Udupi   India  \n",
       "6        West Bengal   India  \n",
       "7             India'   India  \n",
       "8           Guwahati   India  \n",
       "9           Dehradun   India  "
      ]
     },
     "execution_count": 4,
     "metadata": {},
     "output_type": "execute_result"
    }
   ],
   "source": [
    "df.head(10)"
   ]
  },
  {
   "cell_type": "code",
   "execution_count": 5,
   "id": "8e3dcd24",
   "metadata": {},
   "outputs": [
    {
     "name": "stdout",
     "output_type": "stream",
     "text": [
      "Date         0\n",
      "Username     0\n",
      "longitude    0\n",
      "latitude     0\n",
      "city         0\n",
      "country      6\n",
      "dtype: int64\n",
      "(1797, 6)\n"
     ]
    }
   ],
   "source": [
    "print(df.isnull().sum())\n",
    "df.dropna(inplace=True)\n",
    "print(df.shape)"
   ]
  },
  {
   "cell_type": "code",
   "execution_count": 6,
   "id": "eea071ff",
   "metadata": {},
   "outputs": [
    {
     "data": {
      "image/png": "[encoded data removed]",
      "text/plain": [
       "<Figure size 640x480 with 1 Axes>"
      ]
     },
     "metadata": {},
     "output_type": "display_data"
    }
   ],
   "source": [
    "sns.scatterplot(x=\"longitude\", y = \"latitude\", data = df)\n",
    "plt.show()"
   ]
  },
  {
   "cell_type": "code",
   "execution_count": 7,
   "id": "15d36011",
   "metadata": {},
   "outputs": [
    {
     "data": {
      "image/png": "[encoded data removed]",
      "text/plain": [
       "<Figure size 640x480 with 1 Axes>"
      ]
     },
     "metadata": {},
     "output_type": "display_data"
    }
   ],
   "source": [
    "sns.boxplot(x=\"longitude\", data=df)\n",
    "plt.show()"
   ]
  },
  {
   "cell_type": "code",
   "execution_count": 8,
   "id": "53de943d",
   "metadata": {},
   "outputs": [
    {
     "data": {
      "image/png": "[encoded data removed]",
      "text/plain": [
       "<Figure size 640x480 with 1 Axes>"
      ]
     },
     "metadata": {},
     "output_type": "display_data"
    }
   ],
   "source": [
    "sns.boxplot(x=\"latitude\", data=df)\n",
    "plt.show()"
   ]
  },
  {
   "cell_type": "markdown",
   "id": "ade44c1c",
   "metadata": {},
   "source": [
    "### Handle Outliers using (interquartile Range) IQR"
   ]
  },
  {
   "cell_type": "code",
   "execution_count": 9,
   "id": "34d1a940",
   "metadata": {},
   "outputs": [
    {
     "name": "stderr",
     "output_type": "stream",
     "text": [
      "/var/folders/0z/2tqs8bgj7j74q8364ll87kgw0000gn/T/ipykernel_79267/1567037959.py:1: FutureWarning: The default value of numeric_only in DataFrame.quantile is deprecated. In a future version, it will default to False. Select only valid columns or specify the value of numeric_only to silence this warning.\n",
      "  Q1 = df.quantile(0.25)\n",
      "/var/folders/0z/2tqs8bgj7j74q8364ll87kgw0000gn/T/ipykernel_79267/1567037959.py:2: FutureWarning: The default value of numeric_only in DataFrame.quantile is deprecated. In a future version, it will default to False. Select only valid columns or specify the value of numeric_only to silence this warning.\n",
      "  Q3 = df.quantile(0.75)\n",
      "/var/folders/0z/2tqs8bgj7j74q8364ll87kgw0000gn/T/ipykernel_79267/1567037959.py:5: FutureWarning: Automatic reindexing on DataFrame vs Series comparisons is deprecated and will raise ValueError in a future version. Do `left, right = left.align(right, axis=1, copy=False)` before e.g. `left == right`\n",
      "  df = df[~((df < (Q1 - 1.5 * IQR)) | (df > (Q3 + 1.5 * IQR))).any(axis=1)]\n"
     ]
    }
   ],
   "source": [
    "Q1 = df.quantile(0.25)\n",
    "Q3 = df.quantile(0.75)\n",
    "IQR = Q3 - Q1\n",
    "\n",
    "df = df[~((df < (Q1 - 1.5 * IQR)) | (df > (Q3 + 1.5 * IQR))).any(axis=1)]"
   ]
  },
  {
   "cell_type": "code",
   "execution_count": 10,
   "id": "bfd1249c",
   "metadata": {},
   "outputs": [
    {
     "data": {
      "image/png": "[encoded data removed]",
      "text/plain": [
       "<Figure size 640x480 with 1 Axes>"
      ]
     },
     "metadata": {},
     "output_type": "display_data"
    }
   ],
   "source": [
    "sns.scatterplot(x=\"longitude\", y = \"latitude\", data = df)\n",
    "plt.show()"
   ]
  },
  {
   "cell_type": "markdown",
   "id": "c7ead785",
   "metadata": {},
   "source": [
    "### Scale the data using MinMaxScaler"
   ]
  },
  {
   "cell_type": "code",
   "execution_count": 11,
   "id": "edc8aead",
   "metadata": {},
   "outputs": [],
   "source": [
    "from sklearn.preprocessing import MinMaxScaler\n",
    "from sklearn.metrics import calinski_harabasz_score\n",
    "scaler = MinMaxScaler()\n",
    "\n",
    "df_scaled = pd.DataFrame(scaler.fit_transform(df[['longitude','latitude']]), columns=['longitude', 'latitude'])"
   ]
  },
  {
   "cell_type": "code",
   "execution_count": 12,
   "id": "32a5d8f3",
   "metadata": {},
   "outputs": [
    {
     "name": "stdout",
     "output_type": "stream",
     "text": [
      "(1441, 2)\n"
     ]
    }
   ],
   "source": [
    "print(df_scaled.shape)"
   ]
  },
  {
   "cell_type": "code",
   "execution_count": 13,
   "id": "58fb0190",
   "metadata": {},
   "outputs": [],
   "source": [
    "df_combined = df_scaled"
   ]
  },
  {
   "cell_type": "code",
   "execution_count": null,
   "id": "24b03537",
   "metadata": {},
   "outputs": [],
   "source": []
  },
  {
   "cell_type": "code",
   "execution_count": null,
   "id": "f09d360a",
   "metadata": {},
   "outputs": [],
   "source": []
  },
  {
   "cell_type": "markdown",
   "id": "d472cd59",
   "metadata": {},
   "source": [
    "### K-Means Clustering"
   ]
  },
  {
   "cell_type": "code",
   "execution_count": 14,
   "id": "b81e880c",
   "metadata": {},
   "outputs": [
    {
     "name": "stdout",
     "output_type": "stream",
     "text": [
      "Silhouette Score for K-Means:  0.47403755362182387\n",
      "RMSE for K-Means:  0.011975818582581003\n",
      "Calinsky Harabasz score for K-Means 2066.101942626772\n"
     ]
    },
    {
     "name": "stderr",
     "output_type": "stream",
     "text": [
      "/Library/Frameworks/Python.framework/Versions/3.11/lib/python3.11/site-packages/sklearn/cluster/_kmeans.py:870: FutureWarning: The default value of `n_init` will change from 10 to 'auto' in 1.4. Set the value of `n_init` explicitly to suppress the warning\n",
      "  warnings.warn(\n"
     ]
    }
   ],
   "source": [
    "kmeans= KMeans(n_clusters=4, random_state=0).fit(df_scaled)\n",
    "df_scaled['kmeans_labels'] = kmeans.labels_\n",
    "\n",
    "print(\"Silhouette Score for K-Means: \", silhouette_score(df_scaled[['longitude', 'latitude']], kmeans.labels_))\n",
    "print(\"RMSE for K-Means: \", mean_squared_error(df_scaled[['longitude', 'latitude']], kmeans.cluster_centers_[kmeans.labels_]))\n",
    "print(\"Calinsky Harabasz score for K-Means\", calinski_harabasz_score(df_scaled[['longitude','latitude']], kmeans.labels_))"
   ]
  },
  {
   "cell_type": "code",
   "execution_count": null,
   "id": "3cb882d7",
   "metadata": {},
   "outputs": [],
   "source": []
  },
  {
   "cell_type": "markdown",
   "id": "b7e14698",
   "metadata": {},
   "source": [
    "### DBSCAN Clustering"
   ]
  },
  {
   "cell_type": "code",
   "execution_count": 15,
   "id": "bb19d480",
   "metadata": {},
   "outputs": [
    {
     "name": "stdout",
     "output_type": "stream",
     "text": [
      "Silhouette Score for DBSCAN:  0.47403755362182387\n",
      "DBSCAN RMSE: 1.531017403300455\n",
      "Calinsky Harabasz score for DBSCAN:  2066.101942626772\n"
     ]
    }
   ],
   "source": [
    "dbscan = DBSCAN(eps=0.5, min_samples=2).fit(df_scaled)\n",
    "df_scaled[\"dbscan_labels\"] = dbscan.labels_\n",
    "\n",
    "print(\"Silhouette Score for DBSCAN: \", silhouette_score(df_scaled[['longitude', 'latitude']], dbscan.labels_))\n",
    "# print(\"RMSE for DBSCAN: \", mean_squared_error(df_scaled[['longitude', 'latitude']], np.zeros_like(dbscan.labels_)))\n",
    "\n",
    "assigned_points = dbscan.labels_ != -1\n",
    "# y_true = kmeans.labels_[kmeans.labels_ != -1].reshape(-1)\n",
    "y_true = df_scaled[['longitude', 'latitude']].values\n",
    "y_true = y_true.reshape(-1,2)[:,0]\n",
    "y_pred = dbscan.labels_[assigned_points].reshape(-1)\n",
    "\n",
    "\n",
    "# print(f\"y_true shape: {y_true.shape}\")\n",
    "# print(f\"y_pred shape: {y_pred.shape}\")\n",
    "\n",
    "# # Check for missing values\n",
    "# print(f\"Number of missing values in y_true: {np.isnan(y_true).sum()}\")\n",
    "# print(f\"Number of missing values in y_pred: {np.isnan(y_pred).sum()}\")\n",
    "\n",
    "\n",
    "# # Check number of assigned points\n",
    "# num_assigned = sum(assigned_points)\n",
    "# print(f\"Number of assigned points: {num_assigned}\")\n",
    "\n",
    "# # Check number of unique labels\n",
    "# unique_labels = set(dbscan.labels_)\n",
    "# print(f\"Unique labels: {unique_labels}\")\n",
    "\n",
    "# num_original = len(df)\n",
    "# print(f\"Number of points in original DataFrame: {num_original}\")\n",
    "\n",
    "# # Check number of points in filtered DataFrame\n",
    "# num_filtered = sum(assigned_points)\n",
    "# print(f\"Number of points in filtered DataFrame: {num_filtered}\")\n",
    "\n",
    "# # Print length and first few elements of y_true and y_pred\n",
    "# print(f\"Length of y_true: {len(y_true)}\")\n",
    "# print(f\"Length of y_pred: {len(y_pred)}\")\n",
    "# print(f\"First few elements of y_true: {y_true[:5]}\")\n",
    "# print(f\"First few elements of y_pred: {y_pred[:5]}\")\n",
    "\n",
    "\n",
    "# Calculate RMSE\n",
    "rmse = mean_squared_error(y_true, y_pred, squared=False)\n",
    "print(f\"DBSCAN RMSE: {rmse}\")\n",
    "\n",
    "print(\"Calinsky Harabasz score for DBSCAN: \", calinski_harabasz_score(df_scaled[['longitude','latitude']], dbscan.labels_))"
   ]
  },
  {
   "cell_type": "code",
   "execution_count": null,
   "id": "ab3e0e91",
   "metadata": {},
   "outputs": [],
   "source": []
  },
  {
   "cell_type": "code",
   "execution_count": 16,
   "id": "ee36a3fd",
   "metadata": {},
   "outputs": [
    {
     "data": {
      "image/png": "[encoded data removed]",
      "text/plain": [
       "<Figure size 640x480 with 1 Axes>"
      ]
     },
     "metadata": {},
     "output_type": "display_data"
    }
   ],
   "source": [
    "min_cluster_size_hdb = range(2,100)\n",
    "n_clusters = []\n",
    "\n",
    "for size in min_cluster_size_hdb:\n",
    "    clusterer = hdbscan.HDBSCAN(min_cluster_size=size)\n",
    "    clusterer.fit(df_scaled)\n",
    "    n_clusters.append(len(np.unique(clusterer.labels_)))\n",
    "\n",
    "plt.plot(min_cluster_size_hdb, n_clusters)\n",
    "plt.xlabel('min_cluste_size')\n",
    "plt.ylabel('number of clusters')\n",
    "plt.show()"
   ]
  },
  {
   "cell_type": "code",
   "execution_count": 17,
   "id": "38f76d2a",
   "metadata": {},
   "outputs": [
    {
     "name": "stdout",
     "output_type": "stream",
     "text": [
      "Optimal min_samples value: 2\n",
      "Corresponding silhouette score: 0.8970095890580685\n"
     ]
    }
   ],
   "source": [
    "min_samples_range = range(2, 20)\n",
    "\n",
    "# Fit DBSCAN with different min_samples values and calculate silhouette score for each\n",
    "silhouette_scores = []\n",
    "for min_samples in min_samples_range:\n",
    "    dbscan = DBSCAN(eps=0.5, min_samples=min_samples)\n",
    "    dbscan.fit(df_scaled)\n",
    "    labels = dbscan.labels_\n",
    "    if len(np.unique(labels)) > 1:  # Exclude cases with only one cluster\n",
    "        score = silhouette_score(df_scaled, labels)\n",
    "        silhouette_scores.append(score)\n",
    "    else:\n",
    "        silhouette_scores.append(0)\n",
    "\n",
    "# Find the index of the max silhouette score\n",
    "max_index = np.argmax(silhouette_scores)\n",
    "\n",
    "# Print the optimal min_samples value and corresponding silhouette score\n",
    "print(\"Optimal min_samples value:\", min_samples_range[max_index])\n",
    "print(\"Corresponding silhouette score:\", silhouette_scores[max_index])\n",
    "\n"
   ]
  },
  {
   "cell_type": "code",
   "execution_count": null,
   "id": "611aa445",
   "metadata": {},
   "outputs": [],
   "source": []
  },
  {
   "cell_type": "markdown",
   "id": "3d8b0bcf",
   "metadata": {},
   "source": [
    "### HDBSCAN Clustering"
   ]
  },
  {
   "cell_type": "code",
   "execution_count": 18,
   "id": "37ca265c",
   "metadata": {},
   "outputs": [
    {
     "name": "stdout",
     "output_type": "stream",
     "text": [
      "Silhouette Score for HDBSCAN:  0.4631434782943341\n",
      "RMSE for HDBSCAN:  17.485808792917233\n",
      "Calinsky Harabasz score for HDBSACN:  242.80187663936024\n"
     ]
    }
   ],
   "source": [
    "hdb = hdbscan.HDBSCAN(min_samples=2, min_cluster_size=16).fit(df_scaled[['longitude', 'latitude']])\n",
    "df_scaled['hdbscan_labels'] = hdb.labels_\n",
    "\n",
    "assigned_points_hdb = hdb.labels_ != -1\n",
    "y_true_hdb = df_scaled[['longitude', 'latitude']].values\n",
    "y_true_hdb = y_true_hdb.reshape(-1,2)[:,0]\n",
    "y_pred_hdb = hdb.labels_.reshape(-1)\n",
    "\n",
    "\n",
    "\n",
    "# print(f\"y_true shape: {y_true_hdb.shape}\")\n",
    "# print(f\"y_pred shape: {y_pred_hdb.shape}\")\n",
    "\n",
    "# # Check for missing values\n",
    "# print(f\"Number of missing values in y_true: {np.isnan(y_true_hdb).sum()}\")\n",
    "# print(f\"Number of missing values in y_pred: {np.isnan(y_pred_hdb).sum()}\")\n",
    "\n",
    "\n",
    "# # Check number of assigned points\n",
    "# num_assigned_hdb = sum(assigned_points_hdb)\n",
    "# print(f\"Number of assigned points: {num_assigned_hdb}\")\n",
    "\n",
    "# # Check number of unique labels\n",
    "# unique_labels_hdb = set(hdb.labels_)\n",
    "# print(f\"Unique labels: {unique_labels_hdb}\")\n",
    "\n",
    "# num_original = len(df)\n",
    "# print(f\"Number of points in original DataFrame: {num_original}\")\n",
    "\n",
    "# # Check number of points in filtered DataFrame\n",
    "# num_filtered_hdb = sum(assigned_points_hdb)\n",
    "# print(f\"Number of points in filtered DataFrame: {num_filtered_hdb}\")\n",
    "\n",
    "# # Print length and first few elements of y_true and y_pred\n",
    "# print(f\"Length of y_true: {len(y_true_hdb)}\")\n",
    "# print(f\"Length of y_pred: {len(y_pred_hdb)}\")\n",
    "# print(f\"First few elements of y_true: {y_true_hdb[:5]}\")\n",
    "# print(f\"First few elements of y_pred: {y_pred_hdb[:5]}\")\n",
    "\n",
    "\n",
    "\n",
    "rmse_hdb = mean_squared_error(y_true_hdb, y_pred_hdb, squared=False)\n",
    "\n",
    "print(\"Silhouette Score for HDBSCAN: \", silhouette_score(df_scaled[['longitude', 'latitude']], hdb.labels_))\n",
    "print(\"RMSE for HDBSCAN: \", rmse_hdb)\n",
    "print(\"Calinsky Harabasz score for HDBSACN: \", calinski_harabasz_score(df_scaled[['longitude', 'latitude']], hdb.labels_))"
   ]
  },
  {
   "cell_type": "code",
   "execution_count": 19,
   "id": "2cf9d0eb",
   "metadata": {},
   "outputs": [
    {
     "data": {
      "text/html": [
       "<div>\n",
       "<style scoped>\n",
       "    .dataframe tbody tr th:only-of-type {\n",
       "        vertical-align: middle;\n",
       "    }\n",
       "\n",
       "    .dataframe tbody tr th {\n",
       "        vertical-align: top;\n",
       "    }\n",
       "\n",
       "    .dataframe thead th {\n",
       "        text-align: right;\n",
       "    }\n",
       "</style>\n",
       "<table border=\"1\" class=\"dataframe\">\n",
       "  <thead>\n",
       "    <tr style=\"text-align: right;\">\n",
       "      <th></th>\n",
       "      <th>longitude</th>\n",
       "      <th>latitude</th>\n",
       "      <th>kmeans_labels</th>\n",
       "      <th>dbscan_labels</th>\n",
       "      <th>hdbscan_labels</th>\n",
       "    </tr>\n",
       "  </thead>\n",
       "  <tbody>\n",
       "    <tr>\n",
       "      <th>0</th>\n",
       "      <td>0.208303</td>\n",
       "      <td>0.739070</td>\n",
       "      <td>0</td>\n",
       "      <td>0</td>\n",
       "      <td>7</td>\n",
       "    </tr>\n",
       "    <tr>\n",
       "      <th>1</th>\n",
       "      <td>0.208303</td>\n",
       "      <td>0.739070</td>\n",
       "      <td>0</td>\n",
       "      <td>0</td>\n",
       "      <td>7</td>\n",
       "    </tr>\n",
       "    <tr>\n",
       "      <th>2</th>\n",
       "      <td>0.577878</td>\n",
       "      <td>0.005776</td>\n",
       "      <td>2</td>\n",
       "      <td>1</td>\n",
       "      <td>30</td>\n",
       "    </tr>\n",
       "    <tr>\n",
       "      <th>3</th>\n",
       "      <td>0.386433</td>\n",
       "      <td>0.188670</td>\n",
       "      <td>2</td>\n",
       "      <td>1</td>\n",
       "      <td>28</td>\n",
       "    </tr>\n",
       "    <tr>\n",
       "      <th>4</th>\n",
       "      <td>0.619192</td>\n",
       "      <td>0.834355</td>\n",
       "      <td>3</td>\n",
       "      <td>2</td>\n",
       "      <td>15</td>\n",
       "    </tr>\n",
       "  </tbody>\n",
       "</table>\n",
       "</div>"
      ],
      "text/plain": [
       "   longitude  latitude  kmeans_labels  dbscan_labels  hdbscan_labels\n",
       "0   0.208303  0.739070              0              0               7\n",
       "1   0.208303  0.739070              0              0               7\n",
       "2   0.577878  0.005776              2              1              30\n",
       "3   0.386433  0.188670              2              1              28\n",
       "4   0.619192  0.834355              3              2              15"
      ]
     },
     "execution_count": 19,
     "metadata": {},
     "output_type": "execute_result"
    }
   ],
   "source": [
    "df_scaled.head()"
   ]
  },
  {
   "cell_type": "code",
   "execution_count": null,
   "id": "b964404c",
   "metadata": {},
   "outputs": [],
   "source": []
  },
  {
   "cell_type": "code",
   "execution_count": null,
   "id": "4ecace8c",
   "metadata": {},
   "outputs": [],
   "source": []
  },
  {
   "cell_type": "code",
   "execution_count": null,
   "id": "3e5185a8",
   "metadata": {},
   "outputs": [],
   "source": []
  },
  {
   "cell_type": "code",
   "execution_count": 20,
   "id": "b85675ea",
   "metadata": {},
   "outputs": [
    {
     "name": "stderr",
     "output_type": "stream",
     "text": [
      "/Library/Frameworks/Python.framework/Versions/3.11/lib/python3.11/site-packages/sklearn/cluster/_kmeans.py:870: FutureWarning: The default value of `n_init` will change from 10 to 'auto' in 1.4. Set the value of `n_init` explicitly to suppress the warning\n",
      "  warnings.warn(\n"
     ]
    },
    {
     "name": "stdout",
     "output_type": "stream",
     "text": [
      "Silhouette for K-Means:  0.5768117015588669\n",
      "Best eps:  0.1\n",
      "Best min_samples:  2\n",
      "DBSCAN Silhouette Score:  0.9943639806684659\n",
      "DBSCAN Calinsky Harabasz score: 1377569.2327825697\n",
      "DBSCAN RMSE: 326.7841082000952\n",
      "###########################################\n",
      "min_cluster:  15\n",
      "HDBSCAN Silhouette Score:  0.9095843275042477\n",
      "HDBSCAN Calinsky Harabasz score: 751.0630360758342\n",
      "HDBSCAN RMSE: 511.22309356482737\n",
      "###########################################\n",
      "Combined Method RMSE:  3.8613355072687385\n",
      "Calinsky Harabasz score for Combined method:  1170.503521400118\n",
      "Silhouette score for combined method: 0.3367583108935654\n"
     ]
    }
   ],
   "source": [
    "from sklearn.decomposition import PCA\n",
    "\n",
    "# Perform PCA on the data\n",
    "pca = PCA(n_components=2)\n",
    "df_pca = pca.fit_transform(df_combined)\n",
    "\n",
    "# Apply KMeans clustering to the transformed data\n",
    "kmeans_final = KMeans(n_clusters=4)\n",
    "kmeans.fit(df_pca)\n",
    "kmeans_labels = kmeans.labels_\n",
    "sil_kmeans = silhouette_score(df_pca, kmeans_labels)\n",
    "print(\"Silhouette for K-Means: \",sil_kmeans)\n",
    "\n",
    "# Apply DBSCAN clustering \n",
    "eps_range = np.arange(0.1, 1, 0.1)\n",
    "min_samples_range = range(2, 20)\n",
    "silhouette_scores_dbscan = []\n",
    "for eps in eps_range:\n",
    "    for min_samples in min_samples_range:\n",
    "        dbscan = DBSCAN(eps=eps, min_samples=min_samples)\n",
    "        dbscan.fit(df_pca)\n",
    "        labels = dbscan.labels_\n",
    "        if len(labels) > 1:  # Exclude cases with only one cluster\n",
    "            score = silhouette_score(df_pca, labels)\n",
    "            silhouette_scores_dbscan.append((eps, min_samples, score))\n",
    "best_eps, best_min_samples, _ = max(silhouette_scores_dbscan, key=lambda x: x[2])\n",
    "dbscan = DBSCAN(eps=0.5, min_samples=best_min_samples)\n",
    "dbscan.fit(df_pca)\n",
    "dbscan_labels = dbscan.labels_\n",
    "max_index_db = max([score for _, _, score in silhouette_scores_dbscan])\n",
    "print(\"Best eps: \", best_eps)\n",
    "print(\"Best min_samples: \", best_min_samples)\n",
    "print(\"DBSCAN Silhouette Score: \", max_index_db)\n",
    "db_ch_score = calinski_harabasz_score(df_pca, dbscan_labels)\n",
    "print(f\"DBSCAN Calinsky Harabasz score: {db_ch_score}\")\n",
    "true_labels_db = df_combined[['longitude','latitude']].values  # Replace \"label\" with the actual label column name\n",
    "true_labels_db = true_labels_db.reshape(-1,2)[:,0]\n",
    "db_rmse_score = mean_squared_error(true_labels_db, dbscan_labels)\n",
    "print(f\"DBSCAN RMSE: {db_rmse_score}\")\n",
    "print(\"###########################################\")\n",
    "\n",
    "\n",
    "# Apply HDBSCAN clustering and determine the optimal value of min_cluster_size\n",
    "min_cluster_size_range = range(2, 100)\n",
    "silhouette_scores_hdb = []\n",
    "for min_cluster_size in min_cluster_size_range:\n",
    "    hdbscan_labels = hdbscan.HDBSCAN(min_cluster_size=min_cluster_size).fit_predict(df_pca)\n",
    "    score = silhouette_score(df_pca, hdbscan_labels)\n",
    "    silhouette_scores_hdb.append((min_cluster_size, score))\n",
    "best_min_cluster_size, _ = max(silhouette_scores_hdb, key=lambda x: x[1])\n",
    "hdbscan_labels = hdbscan.HDBSCAN(min_samples=2,min_cluster_size=best_min_cluster_size).fit_predict(df_pca)\n",
    "max_index_hdb = max([score for _, score in silhouette_scores_hdb])\n",
    "print(\"min_cluster: \", best_min_cluster_size)\n",
    "print(\"HDBSCAN Silhouette Score: \", max_index_hdb)\n",
    "hdb_ch_score = calinski_harabasz_score(df_pca, hdbscan_labels)\n",
    "print(f\"HDBSCAN Calinsky Harabasz score: {hdb_ch_score}\")\n",
    "true_labels_hdb = df_combined[['longitude','latitude']].values  \n",
    "true_labels_hdb = true_labels_hdb.reshape(-1,2)[:,0]\n",
    "hdb_rmse_score = mean_squared_error(true_labels_hdb, hdbscan_labels)\n",
    "print(f\"HDBSCAN RMSE: {hdb_rmse_score}\")\n",
    "print(\"###########################################\")\n",
    "\n",
    "# Combine the results of the three clustering algorithms using a voting system\n",
    "final_labels = np.zeros(len(df))\n",
    "for i in range(len(df)):\n",
    "    votes = [kmeans_labels[i], dbscan_labels[i], hdbscan_labels[i]]\n",
    "    unique_votes = np.unique(votes)\n",
    "    if len(unique_votes) == 1:\n",
    "        final_labels[i] = unique_votes[0]\n",
    "    else:\n",
    "        vote_counts = [votes.count(v) for v in unique_votes]\n",
    "        final_labels[i] = unique_votes[np.argmax(vote_counts)]\n",
    "\n",
    "# Calculate the RMSE between the final labels and the true labels (if available)\n",
    "true_labels = df_combined[['longitude','latitude']].values  \n",
    "true_labels = true_labels.reshape(-1,2)[:,0]\n",
    "rmse = mean_squared_error(true_labels, final_labels, squared=False)\n",
    "\n",
    "# Calculate the Calinski Harabasz score for the final clustering\n",
    "ch_score = calinski_harabasz_score(df_pca, final_labels)\n",
    "\n",
    "print(\"Combined Method RMSE: \", rmse)\n",
    "print(\"Calinsky Harabasz score for Combined method: \", ch_score)\n",
    "\n",
    "silhouette_score_combined = silhouette_score(df_pca, final_labels)\n",
    "print(\"Silhouette score for combined method:\", silhouette_score_combined)"
   ]
  },
  {
   "cell_type": "code",
   "execution_count": 21,
   "id": "5451593f",
   "metadata": {},
   "outputs": [
    {
     "data": {
      "text/html": [
       "<div>\n",
       "<style scoped>\n",
       "    .dataframe tbody tr th:only-of-type {\n",
       "        vertical-align: middle;\n",
       "    }\n",
       "\n",
       "    .dataframe tbody tr th {\n",
       "        vertical-align: top;\n",
       "    }\n",
       "\n",
       "    .dataframe thead th {\n",
       "        text-align: right;\n",
       "    }\n",
       "</style>\n",
       "<table border=\"1\" class=\"dataframe\">\n",
       "  <thead>\n",
       "    <tr style=\"text-align: right;\">\n",
       "      <th></th>\n",
       "      <th>longitude</th>\n",
       "      <th>latitude</th>\n",
       "      <th>kmeans_labels</th>\n",
       "      <th>dbscan_labels</th>\n",
       "      <th>hdbscan_labels</th>\n",
       "    </tr>\n",
       "  </thead>\n",
       "  <tbody>\n",
       "    <tr>\n",
       "      <th>0</th>\n",
       "      <td>0.208303</td>\n",
       "      <td>0.739070</td>\n",
       "      <td>0</td>\n",
       "      <td>0</td>\n",
       "      <td>7</td>\n",
       "    </tr>\n",
       "    <tr>\n",
       "      <th>1</th>\n",
       "      <td>0.208303</td>\n",
       "      <td>0.739070</td>\n",
       "      <td>0</td>\n",
       "      <td>0</td>\n",
       "      <td>7</td>\n",
       "    </tr>\n",
       "    <tr>\n",
       "      <th>2</th>\n",
       "      <td>0.577878</td>\n",
       "      <td>0.005776</td>\n",
       "      <td>2</td>\n",
       "      <td>1</td>\n",
       "      <td>30</td>\n",
       "    </tr>\n",
       "    <tr>\n",
       "      <th>3</th>\n",
       "      <td>0.386433</td>\n",
       "      <td>0.188670</td>\n",
       "      <td>2</td>\n",
       "      <td>1</td>\n",
       "      <td>28</td>\n",
       "    </tr>\n",
       "    <tr>\n",
       "      <th>4</th>\n",
       "      <td>0.619192</td>\n",
       "      <td>0.834355</td>\n",
       "      <td>3</td>\n",
       "      <td>2</td>\n",
       "      <td>15</td>\n",
       "    </tr>\n",
       "  </tbody>\n",
       "</table>\n",
       "</div>"
      ],
      "text/plain": [
       "   longitude  latitude  kmeans_labels  dbscan_labels  hdbscan_labels\n",
       "0   0.208303  0.739070              0              0               7\n",
       "1   0.208303  0.739070              0              0               7\n",
       "2   0.577878  0.005776              2              1              30\n",
       "3   0.386433  0.188670              2              1              28\n",
       "4   0.619192  0.834355              3              2              15"
      ]
     },
     "execution_count": 21,
     "metadata": {},
     "output_type": "execute_result"
    }
   ],
   "source": [
    "df_combined.head()"
   ]
  },
  {
   "cell_type": "code",
   "execution_count": 22,
   "id": "742bc289",
   "metadata": {},
   "outputs": [],
   "source": [
    "df_combined['final_labels'] = final_labels"
   ]
  },
  {
   "cell_type": "code",
   "execution_count": 23,
   "id": "c61662e2",
   "metadata": {},
   "outputs": [],
   "source": [
    "int_final_labels = final_labels.astype(int)\n",
    "df['final_labels'] = int_final_labels"
   ]
  },
  {
   "cell_type": "code",
   "execution_count": 24,
   "id": "f4f4155d",
   "metadata": {},
   "outputs": [
    {
     "data": {
      "text/html": [
       "<div>\n",
       "<style scoped>\n",
       "    .dataframe tbody tr th:only-of-type {\n",
       "        vertical-align: middle;\n",
       "    }\n",
       "\n",
       "    .dataframe tbody tr th {\n",
       "        vertical-align: top;\n",
       "    }\n",
       "\n",
       "    .dataframe thead th {\n",
       "        text-align: right;\n",
       "    }\n",
       "</style>\n",
       "<table border=\"1\" class=\"dataframe\">\n",
       "  <thead>\n",
       "    <tr style=\"text-align: right;\">\n",
       "      <th></th>\n",
       "      <th>Date</th>\n",
       "      <th>Username</th>\n",
       "      <th>longitude</th>\n",
       "      <th>latitude</th>\n",
       "      <th>city</th>\n",
       "      <th>country</th>\n",
       "      <th>final_labels</th>\n",
       "    </tr>\n",
       "  </thead>\n",
       "  <tbody>\n",
       "    <tr>\n",
       "      <th>2</th>\n",
       "      <td>2023-03-18 11:05:10+00:00</td>\n",
       "      <td>travelwitharyan</td>\n",
       "      <td>72.206516</td>\n",
       "      <td>27.698326</td>\n",
       "      <td>Bikaner</td>\n",
       "      <td>India</td>\n",
       "      <td>0</td>\n",
       "    </tr>\n",
       "    <tr>\n",
       "      <th>3</th>\n",
       "      <td>2023-03-18 11:03:32+00:00</td>\n",
       "      <td>travelwitharyan</td>\n",
       "      <td>72.206516</td>\n",
       "      <td>27.698326</td>\n",
       "      <td>Bikaner</td>\n",
       "      <td>India</td>\n",
       "      <td>0</td>\n",
       "    </tr>\n",
       "    <tr>\n",
       "      <th>4</th>\n",
       "      <td>2023-03-18 08:44:42+00:00</td>\n",
       "      <td>NSivapriyan2141</td>\n",
       "      <td>77.312066</td>\n",
       "      <td>8.230492</td>\n",
       "      <td>Padmanabhapuram</td>\n",
       "      <td>India</td>\n",
       "      <td>0</td>\n",
       "    </tr>\n",
       "    <tr>\n",
       "      <th>5</th>\n",
       "      <td>2023-03-17 14:38:59+00:00</td>\n",
       "      <td>tourism_udupi</td>\n",
       "      <td>74.667323</td>\n",
       "      <td>13.086056</td>\n",
       "      <td>Udupi</td>\n",
       "      <td>India</td>\n",
       "      <td>0</td>\n",
       "    </tr>\n",
       "    <tr>\n",
       "      <th>9</th>\n",
       "      <td>2023-03-16 16:16:44+00:00</td>\n",
       "      <td>flywithheritage</td>\n",
       "      <td>77.882808</td>\n",
       "      <td>30.227984</td>\n",
       "      <td>Dehradun</td>\n",
       "      <td>India</td>\n",
       "      <td>2</td>\n",
       "    </tr>\n",
       "  </tbody>\n",
       "</table>\n",
       "</div>"
      ],
      "text/plain": [
       "                        Date         Username  longitude   latitude  \\\n",
       "2  2023-03-18 11:05:10+00:00  travelwitharyan  72.206516  27.698326   \n",
       "3  2023-03-18 11:03:32+00:00  travelwitharyan  72.206516  27.698326   \n",
       "4  2023-03-18 08:44:42+00:00  NSivapriyan2141  77.312066   8.230492   \n",
       "5  2023-03-17 14:38:59+00:00    tourism_udupi  74.667323  13.086056   \n",
       "9  2023-03-16 16:16:44+00:00  flywithheritage  77.882808  30.227984   \n",
       "\n",
       "              city country  final_labels  \n",
       "2          Bikaner   India             0  \n",
       "3          Bikaner   India             0  \n",
       "4  Padmanabhapuram   India             0  \n",
       "5            Udupi   India             0  \n",
       "9         Dehradun   India             2  "
      ]
     },
     "execution_count": 24,
     "metadata": {},
     "output_type": "execute_result"
    }
   ],
   "source": [
    "df.head()"
   ]
  },
  {
   "cell_type": "code",
   "execution_count": 25,
   "id": "1274c2ee",
   "metadata": {},
   "outputs": [],
   "source": [
    "import folium\n",
    "\n",
    "\n",
    "def create_map(df, cluster_column):\n",
    "    m = folium.Map(location=[df.latitude.mean(), df.longitude.mean()], zoom_start=4, titles='OpenStreet Map')\n",
    "    \n",
    "    for _, row in df.iterrows():\n",
    "        if row[cluster_column] == -1:\n",
    "            cluster_color = '#000000'\n",
    "        else:\n",
    "            cluster_color = cols[row[cluster_column]]\n",
    "        \n",
    "        icon = folium.DivIcon( icon_size=(1,1), html='<div class=\"marker-{}\"></div>'.format(row['city'].lower().replace(\" \", \"-\")))\n",
    "        marker_div = folium.Marker(location=[row['latitude'], row['longitude']],\n",
    "                           radius=5,\n",
    "                           popup= row['city']+ \"\\n\" +str(row[cluster_column]),\n",
    "                           color=cluster_color,\n",
    "                           fill=True,\n",
    "                           fill_color = cluster_color, icon=icon).add_to(m)\n",
    "    \n",
    "    folium.LayerControl().add_to(m)\n",
    "    return m\n",
    "\n",
    "m = create_map(df,'final_labels')\n",
    "\n",
    "# # create a map object\n",
    "# m = folium.Map(location=[df.latitude.mean(), df.longitude.mean()], zoom_start=4)\n",
    "\n",
    "# # iterate over the final_labels list to add tags to the map\n",
    "# for _, row in df.iterrows():\n",
    "#     folium.CircleMarker(location=[row.latitude, row.longitude], radius = 5, popup=row['city']+ \", \" + final_labels[row]).add_to(m)\n",
    "    \n",
    "# create an HTML file for the map and add a search bar\n",
    "m.save('map_untitled.html')\n",
    "\n",
    "with open('map_untitled.html', 'r') as file:\n",
    "    content = file.read()\n",
    "\n",
    "def search_city(city):\n",
    "    markers = m.get_root().findAll(class_='marker-icon')\n",
    "    for marker in markers:\n",
    "        marker_city = marker.get('class').split(' ')[1].split('-')[1].replace('-', ' ')\n",
    "        if marker_city.lower() == city.lower():\n",
    "            marker.style.display = 'block'\n",
    "            marker.parentElement.style.display = 'block'\n",
    "        else:\n",
    "            marker.style.display = 'none'\n",
    "            marker.parentElement.style.display = 'none'\n",
    "\n",
    "\n",
    "search_function = \"\"\"\n",
    "<div style=\"position: absolute; top: 10px; left: 50%; transform: translate(-50%, 0); z-index: 1000;\">\n",
    "    <form id=\"search-form\" onsubmit=\"searchCity(); return false;\">\n",
    "        <input type=\"text\" id=\"search-box\" placeholder=\"Search for a city\">\n",
    "        <input type=\"submit\" value=\"Search\">\n",
    "    </form>\n",
    "</div>\n",
    "\n",
    "<script>\n",
    "function searchCity() {\n",
    "    // get the search query from the search box\n",
    "    var searchQuery = document.getElementById('search-box').value.trim().toLowerCase();\n",
    "\n",
    "    // find all markers on the map\n",
    "    var markers = document.getElementsByClassName('marker');\n",
    "\n",
    "}\n",
    "\n",
    "document.getElementById(\"search-form\").addEventListener(\"submit\", searchCity);\n",
    "</script>\n",
    "\"\"\"\n",
    "\n",
    "\n",
    "\n",
    "content = content.replace('</body>', search_function + '\\n</body>')\n",
    "\n",
    "with open('map_untitled.html', 'w') as file:\n",
    "    file.write(content)\n"
   ]
  },
  {
   "cell_type": "code",
   "execution_count": null,
   "id": "0d416328",
   "metadata": {},
   "outputs": [],
   "source": []
  },
  {
   "cell_type": "code",
   "execution_count": 26,
   "id": "327daf56",
   "metadata": {},
   "outputs": [
    {
     "ename": "ValueError",
     "evalue": "\n    Invalid value of type 'builtins.list' received for the 'args' property of layout.updatemenu.button\n        Received value: [{'visible': False}, {'visible': False}, {'visible': False}, {'visible': False}, {'visible': False}, {'visible': False}, {'visible': False}, {'visible': False}, {'visible': False}, {'visible': False}, {'visible': False}, {'visible': False}, {'visible': False}, {'visible': False}, {'visible': False}, {'visible': False}, {'visible': False}, {'visible': False}, {'visible': False}, {'visible': False}, {'visible': False}, {'visible': False}, {'visible': False}, {'visible': False}, {'visible': False}, {'visible': False}, {'visible': False}, {'visible': False}, {'visible': False}, {'visible': False}, {'visible': False}, {'visible': False}, {'visible': False}, {'visible': False}, {'visible': False}, {'visible': False}, {'visible': False}, {'visible': False}, {'visible': False}, {'visible': False}, {'visible': False}, {'visible': False}, {'visible': False}, {'visible': False}, {'visible': False}, {'visible': False}, {'visible': False}, {'visible': False}, {'visible': False}, {'visible': False}, {'visible': False}, {'visible': False}, {'visible': False}, {'visible': False}, {'visible': False}, {'visible': False}, {'visible': False}, {'visible': False}, {'visible': False}, {'visible': False}, {'visible': False}, {'visible': False}, {'visible': False}, {'visible': False}, {'visible': False}, {'visible': False}, {'visible': False}, {'visible': False}, {'visible': False}, {'visible': False}, {'visible': False}, {'visible': False}, {'visible': False}, {'visible': False}, {'visible': False}, {'visible': False}, {'visible': False}, {'visible': False}, {'visible': False}, {'visible': False}, {'visible': False}, {'visible': False}, {'visible': False}, {'visible': False}, {'visible': False}, {'visible': False}, {'visible': False}, {'visible': False}, {'visible': False}, {'visible': False}, {'visible': False}, {'visible': False}, {'visible': False}, {'visible': False}, {'visible': False}, {'visible': False}, {'visible': False}, {'visible': False}, {'visible': False}, {'visible': False}, {'visible': False}, {'visible': False}, {'visible': False}, {'visible': False}, {'visible': False}, {'visible': False}, {'visible': False}, {'visible': False}, {'visible': False}, {'visible': False}, {'visible': False}, {'visible': False}, {'visible': False}, {'visible': False}, {'visible': False}, {'visible': False}, {'visible': False}, {'visible': False}, {'visible': False}, {'visible': False}, {'visible': False}, {'visible': False}, {'visible': False}, {'visible': False}, {'visible': False}, {'visible': False}, {'visible': False}, {'visible': False}, {'visible': False}, {'visible': False}, {'visible': False}, {'visible': False}, {'visible': False}, {'visible': False}, {'visible': False}, {'visible': False}, {'visible': False}, {'visible': False}, {'visible': False}, {'visible': False}, {'visible': False}, {'visible': False}, {'visible': False}, {'visible': False}, {'visible': False}, {'visible': False}, {'visible': False}, {'visible': False}, {'visible': False}, {'visible': False}, {'visible': False}, {'visible': False}, {'visible': False}, {'visible': False}, {'visible': False}, {'visible': False}, {'visible': False}, {'visible': False}, {'visible': False}, {'visible': False}, {'visible': False}, {'visible': False}, {'visible': False}, {'visible': False}, {'visible': False}, {'visible': False}, {'visible': False}, {'visible': False}, {'visible': False}, {'visible': False}, {'visible': False}, {'visible': False}, {'visible': False}, {'visible': False}, {'visible': False}, {'visible': False}, {'visible': False}, {'visible': False}, {'visible': False}, {'visible': False}, {'visible': False}, {'visible': False}, {'visible': False}, {'visible': False}, {'visible': False}, {'visible': False}, {'visible': False}, {'visible': False}, {'visible': False}, {'visible': False}, {'visible': False}, {'visible': False}, {'visible': False}, {'visible': False}, {'visible': False}, {'visible': False}, {'visible': False}, {'visible': False}, {'visible': False}, {'visible': False}, {'visible': False}, {'visible': False}, {'visible': False}, {'visible': False}, {'visible': False}, {'visible': False}, {'visible': False}, {'visible': False}, {'visible': False}, {'visible': False}, {'visible': False}, {'visible': False}, {'visible': False}, {'visible': False}, {'visible': False}, {'visible': False}, {'visible': False}, {'visible': False}, {'visible': False}, {'visible': False}, {'visible': False}, {'visible': False}, {'visible': False}, {'visible': False}, {'visible': False}, {'visible': False}, {'visible': False}, {'visible': False}, {'visible': False}, {'visible': False}, {'visible': False}, {'visible': False}, {'visible': False}, {'visible': False}, {'visible': False}, {'visible': False}, {'visible': False}, {'visible': False}, {'visible': False}, {'visible': False}, {'visible': False}, {'visible': False}, {'visible': False}, {'visible': False}, {'visible': False}, {'visible': False}, {'visible': False}, {'visible': False}, {'visible': False}, {'visible': False}, {'visible': False}, {'visible': False}, {'visible': False}, {'visible': False}, {'visible': False}, {'visible': False}, {'visible': False}, {'visible': False}, {'visible': False}, {'visible': False}, {'visible': False}, {'visible': False}, {'visible': False}, {'visible': False}, {'visible': False}, {'visible': False}, {'visible': False}, {'visible': False}, {'visible': False}, {'visible': False}, {'visible': False}, {'visible': False}, {'visible': False}, {'visible': False}, {'visible': False}, {'visible': False}, {'visible': False}, {'visible': False}, {'visible': False}, {'visible': False}, {'visible': False}, {'visible': False}, {'visible': False}, {'visible': False}, {'visible': False}, {'visible': False}, {'visible': False}, {'visible': False}, {'visible': False}, {'visible': False}, {'visible': False}, {'visible': False}, {'visible': False}, {'visible': False}, {'visible': False}, {'visible': False}, {'visible': False}, {'visible': False}, {'visible': False}, {'visible': False}, {'visible': False}, {'visible': False}, {'visible': False}, {'visible': False}, {'visible': False}, {'visible': False}, {'visible': False}, {'visible': False}, {'visible': False}, {'visible': False}, {'visible': False}, {'visible': False}, {'visible': False}, {'visible': False}, {'visible': False}, {'visible': False}, {'visible': False}, {'visible': False}, {'visible': False}, {'visible': False}, {'visible': False}, {'visible': False}, {'visible': False}, {'visible': False}, {'visible': False}, {'visible': False}, {'visible': False}, {'visible': False}, {'visible': False}, {'visible': False}, {'visible': False}, {'visible': False}, {'visible': False}, {'visible': False}, {'visible': False}, {'visible': False}, {'visible': False}, {'visible': False}, {'visible': False}, {'visible': False}, {'visible': False}, {'visible': False}, {'visible': False}, {'visible': False}, {'visible': False}, {'visible': False}, {'visible': False}, {'visible': False}, {'visible': False}, {'visible': False}, {'visible': False}, {'visible': False}, {'visible': False}, {'visible': False}, {'visible': False}, {'visible': False}, {'visible': False}, {'visible': False}, {'visible': False}, {'visible': False}, {'visible': False}, {'visible': False}, {'visible': False}, {'visible': False}, {'visible': False}, {'visible': False}, {'visible': False}, {'visible': False}, {'visible': False}, {'visible': False}, {'visible': False}, {'visible': False}, {'visible': False}, {'visible': False}, {'visible': False}, {'visible': False}, {'visible': False}, {'visible': False}, {'visible': False}, {'visible': False}, {'visible': False}, {'visible': False}, {'visible': False}, {'visible': False}, {'visible': False}, {'visible': False}, {'visible': False}, {'visible': False}, {'visible': False}, {'visible': False}, {'visible': False}, {'visible': False}, {'visible': False}, {'visible': False}, {'visible': False}, {'visible': False}, {'visible': False}, {'visible': False}, {'visible': False}, {'visible': False}, {'visible': False}, {'visible': False}, {'visible': False}, {'visible': False}, {'visible': False}, {'visible': False}, {'visible': False}, {'visible': False}, {'visible': False}, {'visible': False}, {'visible': False}, {'visible': False}, {'visible': False}, {'visible': False}, {'visible': False}, {'visible': False}, {'visible': False}, {'visible': False}, {'visible': False}, {'visible': False}, {'visible': False}, {'visible': False}, {'visible': False}, {'visible': False}, {'visible': False}, {'visible': False}, {'visible': False}, {'visible': False}, {'visible': False}, {'visible': False}, {'visible': False}, {'visible': False}, {'visible': False}, {'visible': False}, {'visible': False}, {'visible': False}, {'visible': False}, {'visible': False}, {'visible': False}, {'visible': False}, {'visible': False}, {'visible': False}, {'visible': False}, {'visible': False}, {'visible': False}, {'visible': False}, {'visible': False}, {'visible': False}, {'visible': False}, {'visible': False}, {'visible': False}, {'visible': False}, {'visible': False}, {'visible': False}, {'visible': False}, {'visible': False}, {'visible': False}, {'visible': False}, {'visible': False}, {'visible': False}, {'visible': False}, {'visible': False}, {'visible': False}, {'visible': False}, {'visible': False}, {'visible': False}, {'visible': False}, {'visible': False}, {'visible': False}, {'visible': False}, {'visible': False}, {'visible': False}, {'visible': False}, {'visible': False}, {'visible': False}, {'visible': False}, {'visible': False}, {'visible': False}, {'visible': False}, {'visible': False}, {'visible': False}, {'visible': False}, {'visible': False}, {'visible': False}, {'visible': False}, {'visible': False}, {'visible': False}, {'visible': False}, {'visible': False}, {'visible': False}, {'visible': False}, {'visible': False}, {'visible': False}, {'visible': False}, {'visible': False}, {'visible': False}, {'visible': False}, {'visible': False}, {'visible': False}, {'visible': False}, {'visible': False}, {'visible': False}, {'visible': False}, {'visible': False}, {'visible': False}, {'visible': False}, {'visible': False}, {'visible': False}, {'visible': False}, {'visible': False}, {'visible': False}, {'visible': False}, {'visible': False}, {'visible': False}, {'visible': False}, {'visible': False}, {'visible': False}, {'visible': False}, {'visible': False}, {'visible': False}, {'visible': False}, {'visible': False}, {'visible': False}, {'visible': False}, {'visible': False}, {'visible': False}, {'visible': False}, {'visible': False}, {'visible': False}, {'visible': False}, {'visible': False}, {'visible': False}, {'visible': False}, {'visible': False}, {'visible': False}, {'visible': False}, {'visible': False}, {'visible': False}, {'visible': False}, {'visible': False}, {'visible': False}, {'visible': False}, {'visible': False}, {'visible': False}, {'visible': False}, {'visible': False}, {'visible': False}, {'visible': False}, {'visible': False}, {'visible': False}, {'visible': False}, {'visible': False}, {'visible': False}, {'visible': False}, {'visible': False}, {'visible': False}, {'visible': False}, {'visible': False}, {'visible': False}, {'visible': False}, {'visible': False}, {'visible': False}, {'visible': False}, {'visible': False}, {'visible': False}, {'visible': False}, {'visible': False}, {'visible': False}, {'visible': False}, {'visible': False}, {'visible': False}, {'visible': False}, {'visible': False}, {'visible': False}, {'visible': False}, {'visible': False}, {'visible': False}, {'visible': False}, {'visible': False}, {'visible': False}, {'visible': False}, {'visible': False}, {'visible': False}, {'visible': False}, {'visible': False}, {'visible': False}, {'visible': False}, {'visible': False}, {'visible': False}, {'visible': False}, {'visible': False}, {'visible': False}, {'visible': False}, {'visible': False}, {'visible': False}, {'visible': False}, {'visible': False}, {'visible': False}, {'visible': False}, {'visible': False}, {'visible': False}, {'visible': False}, {'visible': False}, {'visible': False}, {'visible': False}, {'visible': False}, {'visible': False}, {'visible': False}, {'visible': False}, {'visible': False}, {'visible': False}, {'visible': False}, {'visible': False}, {'visible': False}, {'visible': False}, {'visible': False}, {'visible': False}, {'visible': False}, {'visible': False}, {'visible': False}, {'visible': False}, {'visible': False}, {'visible': False}, {'visible': False}, {'visible': False}, {'visible': False}, {'visible': False}, {'visible': False}, {'visible': False}, {'visible': False}, {'visible': False}, {'visible': False}, {'visible': False}, {'visible': False}, {'visible': False}, {'visible': False}, {'visible': False}, {'visible': False}, {'visible': False}, {'visible': False}, {'visible': False}, {'visible': False}, {'visible': False}, {'visible': False}, {'visible': False}, {'visible': False}, {'visible': False}, {'visible': False}, {'visible': False}, {'visible': False}, {'visible': False}, {'visible': False}, {'visible': False}, {'visible': False}, {'visible': False}, {'visible': False}, {'visible': False}, {'visible': False}, {'visible': False}, {'visible': False}, {'visible': False}, {'visible': False}, {'visible': False}, {'visible': False}, {'visible': False}, {'visible': False}, {'visible': False}, {'visible': False}, {'visible': False}, {'visible': False}, {'visible': False}, {'visible': False}, {'visible': False}, {'visible': False}, {'visible': False}, {'visible': False}, {'visible': False}, {'visible': False}, {'visible': False}, {'visible': False}, {'visible': False}, {'visible': False}, {'visible': False}, {'visible': False}, {'visible': False}, {'visible': False}, {'visible': False}, {'visible': False}, {'visible': False}, {'visible': False}, {'visible': False}, {'visible': False}, {'visible': False}, {'visible': False}, {'visible': False}, {'visible': False}, {'visible': False}, {'visible': False}, {'visible': False}, {'visible': False}, {'visible': False}, {'visible': False}, {'visible': False}, {'visible': False}, {'visible': False}, {'visible': False}, {'visible': False}, {'visible': False}, {'visible': False}, {'visible': False}, {'visible': False}, {'visible': False}, {'visible': False}, {'visible': False}, {'visible': False}, {'visible': False}, {'visible': False}, {'visible': False}, {'visible': False}, {'visible': False}, {'visible': False}, {'visible': False}, {'visible': False}, {'visible': False}, {'visible': False}, {'visible': False}, {'visible': False}, {'visible': False}, {'visible': False}, {'visible': False}, {'visible': False}, {'visible': False}, {'visible': False}, {'visible': False}, {'visible': False}, {'visible': False}, {'visible': False}, {'visible': False}, {'visible': False}, {'visible': False}, {'visible': False}, {'visible': False}, {'visible': False}, {'visible': False}, {'visible': False}, {'visible': False}, {'visible': False}, {'visible': False}, {'visible': False}, {'visible': False}, {'visible': False}, {'visible': False}, {'visible': False}, {'visible': False}, {'visible': False}, {'visible': False}, {'visible': False}, {'visible': False}, {'visible': False}, {'visible': False}, {'visible': False}, {'visible': False}, {'visible': False}, {'visible': False}, {'visible': False}, {'visible': False}, {'visible': False}, {'visible': False}, {'visible': False}, {'visible': False}, {'visible': False}, {'visible': False}, {'visible': False}, {'visible': False}, {'visible': False}, {'visible': False}, {'visible': False}, {'visible': False}, {'visible': False}, {'visible': False}, {'visible': False}, {'visible': False}, {'visible': False}, {'visible': False}, {'visible': False}, {'visible': False}, {'visible': False}, {'visible': False}, {'visible': False}, {'visible': False}, {'visible': False}, {'visible': False}, {'visible': False}, {'visible': False}, {'visible': False}, {'visible': False}, {'visible': False}, {'visible': False}, {'visible': False}, {'visible': False}, {'visible': False}, {'visible': False}, {'visible': False}, {'visible': False}, {'visible': False}, {'visible': False}, {'visible': False}, {'visible': False}, {'visible': False}, {'visible': False}, {'visible': False}, {'visible': False}, {'visible': False}, {'visible': False}, {'visible': False}, {'visible': False}, {'visible': False}, {'visible': False}, {'visible': False}, {'visible': False}, {'visible': False}, {'visible': False}, {'visible': False}, {'visible': False}, {'visible': False}, {'visible': False}, {'visible': False}, {'visible': False}, {'visible': False}, {'visible': False}, {'visible': False}, {'visible': False}, {'visible': False}, {'visible': False}, {'visible': False}, {'visible': False}, {'visible': False}, {'visible': False}, {'visible': False}, {'visible': False}, {'visible': False}, {'visible': False}, {'visible': False}, {'visible': False}, {'visible': False}, {'visible': False}, {'visible': False}, {'visible': False}, {'visible': False}, {'visible': False}, {'visible': False}, {'visible': False}, {'visible': False}, {'visible': False}, {'visible': False}, {'visible': False}, {'visible': False}, {'visible': False}, {'visible': False}, {'visible': False}, {'visible': False}, {'visible': False}, {'visible': False}, {'visible': False}, {'visible': False}, {'visible': False}, {'visible': False}, {'visible': False}, {'visible': False}, {'visible': False}, {'visible': False}, {'visible': False}, {'visible': False}, {'visible': False}, {'visible': False}, {'visible': False}, {'visible': False}, {'visible': False}, {'visible': False}, {'visible': False}, {'visible': False}, {'visible': False}, {'visible': False}, {'visible': False}, {'visible': False}, {'visible': False}, {'visible': False}, {'visible': False}, {'visible': False}, {'visible': False}, {'visible': False}, {'visible': False}, {'visible': False}, {'visible': False}, {'visible': False}, {'visible': False}, {'visible': False}, {'visible': False}, {'visible': False}, {'visible': False}, {'visible': False}, {'visible': False}, {'visible': False}, {'visible': False}, {'visible': False}, {'visible': False}, {'visible': False}, {'visible': False}, {'visible': False}, {'visible': False}, {'visible': False}, {'visible': False}, {'visible': False}, {'visible': False}, {'visible': False}, {'visible': False}, {'visible': False}, {'visible': False}, {'visible': False}, {'visible': False}, {'visible': False}, {'visible': False}, {'visible': False}, {'visible': False}, {'visible': False}, {'visible': False}, {'visible': False}, {'visible': False}, {'visible': False}, {'visible': False}, {'visible': False}, {'visible': False}, {'visible': False}, {'visible': False}, {'visible': False}, {'visible': False}, {'visible': False}, {'visible': False}, {'visible': False}, {'visible': False}, {'visible': False}, {'visible': False}, {'visible': False}, {'visible': False}, {'visible': False}, {'visible': False}, {'visible': False}, {'visible': False}, {'visible': False}, {'visible': False}, {'visible': False}, {'visible': False}, {'visible': False}, {'visible': False}, {'visible': False}, {'visible': False}, {'visible': False}, {'visible': False}, {'visible': False}, {'visible': False}, {'visible': False}, {'visible': False}, {'visible': False}, {'visible': False}, {'visible': False}, {'visible': False}, {'visible': False}, {'visible': False}, {'visible': False}, {'visible': False}, {'visible': False}, {'visible': False}, {'visible': False}, {'visible': False}, {'visible': False}, {'visible': False}, {'visible': False}, {'visible': False}, {'visible': False}, {'visible': False}, {'visible': False}, {'visible': False}, {'visible': False}, {'visible': False}, {'visible': False}, {'visible': False}, {'visible': False}, {'visible': False}, {'visible': False}, {'visible': False}, {'visible': False}, {'visible': False}, {'visible': False}, {'visible': False}, {'visible': False}, {'visible': False}, {'visible': False}, {'visible': False}, {'visible': False}, {'visible': False}, {'visible': False}, {'visible': False}, {'visible': False}, {'visible': False}, {'visible': False}, {'visible': False}, {'visible': False}, {'visible': False}, {'visible': False}, {'visible': False}, {'visible': False}, {'visible': False}, {'visible': False}, {'visible': False}, {'visible': False}, {'visible': False}, {'visible': False}, {'visible': False}, {'visible': False}, {'visible': False}, {'visible': False}, {'visible': False}, {'visible': False}, {'visible': False}, {'visible': False}, {'visible': False}, {'visible': False}, {'visible': False}, {'visible': False}, {'visible': False}, {'visible': False}, {'visible': False}, {'visible': False}, {'visible': False}, {'visible': False}, {'visible': False}, {'visible': False}, {'visible': False}, {'visible': False}, {'visible': False}, {'visible': False}, {'visible': False}, {'visible': False}, {'visible': False}, {'visible': False}, {'visible': False}, {'visible': False}, {'visible': False}, {'visible': False}, {'visible': False}, {'visible': False}, {'visible': False}, {'visible': False}, {'visible': False}, {'visible': False}, {'visible': False}, {'visible': False}, {'visible': False}, {'visible': False}, {'visible': False}, {'visible': False}, {'visible': False}, {'visible': False}, {'visible': False}, {'visible': False}, {'visible': False}, {'visible': False}, {'visible': False}, {'visible': False}, {'visible': False}, {'visible': False}, {'visible': False}, {'visible': False}, {'visible': False}, {'visible': False}, {'visible': False}, {'visible': False}, {'visible': False}, {'visible': False}, {'visible': False}, {'visible': False}, {'visible': False}, {'visible': False}, {'visible': False}, {'visible': False}, {'visible': False}, {'visible': False}, {'visible': False}, {'visible': False}, {'visible': False}, {'visible': False}, {'visible': False}, {'visible': False}, {'visible': False}, {'visible': False}, {'visible': False}, {'visible': False}, {'visible': False}, {'visible': False}, {'visible': False}, {'visible': False}, {'visible': False}, {'visible': False}, {'visible': False}, {'visible': False}, {'visible': False}, {'visible': False}, {'visible': False}, {'visible': False}, {'visible': False}, {'visible': False}, {'visible': False}, {'visible': False}, {'visible': False}, {'visible': False}, {'visible': False}, {'visible': False}, {'visible': False}, {'visible': False}, {'visible': False}, {'visible': False}, {'visible': False}, {'visible': False}, {'visible': False}, {'visible': False}, {'visible': False}, {'visible': False}, {'visible': False}, {'visible': False}, {'visible': False}, {'visible': False}, {'visible': False}, {'visible': False}, {'visible': False}, {'visible': False}, {'visible': False}, {'visible': False}, {'visible': False}, {'visible': False}, {'visible': False}, {'visible': False}, {'visible': False}, {'visible': False}, {'visible': False}, {'visible': False}, {'visible': False}, {'visible': False}, {'visible': False}, {'visible': False}, {'visible': False}, {'visible': False}, {'visible': False}, {'visible': False}, {'visible': False}, {'visible': False}, {'visible': False}, {'visible': False}, {'visible': False}, {'visible': False}, {'visible': False}, {'visible': False}, {'visible': False}, {'visible': False}, {'visible': False}, {'visible': False}, {'visible': False}, {'visible': False}, {'visible': False}, {'visible': False}, {'visible': False}, {'visible': False}, {'visible': False}, {'visible': False}, {'visible': False}, {'visible': False}, {'visible': False}, {'visible': False}, {'visible': False}, {'visible': False}, {'visible': False}, {'visible': False}, {'visible': False}, {'visible': False}, {'visible': False}, {'visible': False}, {'visible': False}, {'visible': False}, {'visible': False}, {'visible': False}, {'visible': False}, {'visible': False}, {'visible': False}, {'visible': False}, {'visible': False}, {'visible': False}, {'visible': False}, {'visible': False}, {'visible': False}, {'visible': False}, {'visible': False}, {'visible': False}, {'visible': False}, {'visible': False}, {'visible': False}, {'visible': False}, {'visible': False}, {'visible': False}, {'visible': False}, {'visible': False}, {'visible': False}, {'visible': False}, {'visible': False}, {'visible': False}, {'visible': False}, {'visible': False}, {'visible': False}, {'visible': False}, {'visible': False}, {'visible': False}, {'visible': False}, {'visible': False}, {'visible': False}, {'visible': False}, {'visible': False}, {'visible': False}, {'visible': False}, {'visible': False}, {'visible': False}, {'visible': False}, {'visible': False}, {'visible': False}, {'visible': False}, {'visible': False}, {'visible': False}, {'visible': False}, {'visible': False}, {'visible': False}, {'visible': False}, {'visible': False}, {'visible': False}, {'visible': False}, {'visible': False}, {'visible': False}, {'visible': False}, {'visible': False}, {'visible': False}, {'visible': False}, {'visible': False}, {'visible': False}, {'visible': False}, {'visible': False}, {'visible': False}, {'visible': False}, {'visible': False}, {'visible': False}, {'visible': False}, {'visible': False}, {'visible': False}, {'visible': False}, {'visible': False}, {'visible': False}, {'visible': False}, {'visible': False}, {'visible': False}, {'visible': False}, {'visible': False}, {'visible': False}, {'visible': False}, {'visible': False}, {'visible': False}, {'visible': False}, {'visible': False}, {'visible': False}, {'visible': False}, {'visible': False}, {'visible': False}, {'visible': False}, {'visible': False}, {'visible': False}, {'visible': False}, {'visible': False}, {'visible': False}, {'visible': False}, {'visible': False}, {'visible': False}, {'visible': False}, {'visible': False}, {'visible': False}, {'visible': False}, {'visible': False}, {'visible': False}, {'visible': False}, {'visible': False}, {'visible': False}, {'visible': False}, {'visible': False}, {'visible': False}, {'visible': False}, {'visible': False}, {'visible': False}, {'visible': False}, {'visible': False}, {'visible': False}, {'visible': False}, {'visible': False}, {'visible': False}, {'visible': False}, {'visible': False}, {'visible': False}, {'visible': False}, {'visible': False}, {'visible': False}, {'visible': False}, {'visible': False}, {'visible': False}, {'visible': False}, {'visible': False}, {'visible': False}, {'visible': False}, {'visible': False}, {'visible': False}, {'visible': False}, {'visible': False}, {'visible': False}, {'visible': False}, {'visible': False}, {'visible': False}, {'visible': False}, {'visible': False}, {'visible': False}, {'visible': False}, {'visible': False}, {'visible': False}, {'visible': False}, {'visible': False}, {'visible': False}, {'visible': False}, {'visible': False}, {'visible': False}, {'visible': False}, {'visible': False}, {'visible': False}, {'visible': False}, {'visible': False}, {'visible': False}, {'visible': False}, {'visible': False}, {'visible': False}, {'visible': False}, {'visible': False}, {'visible': False}, {'visible': False}, {'visible': False}, {'visible': False}, {'visible': False}, {'visible': False}, {'visible': False}, {'visible': False}, {'visible': False}, {'visible': False}, {'visible': False}, {'visible': False}, {'visible': False}, {'visible': False}, {'visible': False}, {'visible': False}, {'visible': False}, {'visible': False}, {'visible': False}, {'visible': False}, {'visible': False}, {'visible': False}, {'visible': False}, {'visible': False}, {'visible': False}, {'visible': False}, {'visible': False}, {'visible': False}, {'visible': False}, {'visible': False}, {'visible': False}, {'visible': False}, {'visible': False}, {'visible': False}, {'visible': False}, {'visible': False}, {'visible': False}, {'visible': False}, {'visible': False}, {'visible': False}, {'visible': False}, {'visible': False}, {'visible': False}, {'visible': False}, {'visible': False}, {'visible': False}, {'visible': False}, {'visible': False}, {'visible': False}, {'visible': False}, {'visible': False}, {'visible': False}, {'visible': False}, {'visible': False}, {'visible': False}, {'visible': False}, {'visible': False}, {'visible': False}, {'visible': False}, {'visible': False}, {'visible': False}, {'visible': False}, {'visible': False}, {'visible': False}, {'visible': False}, {'visible': False}, {'visible': False}, {'visible': False}, {'visible': False}, {'visible': False}, {'visible': False}, {'visible': False}, {'visible': False}, {'visible': False}, {'visible': False}, {'visible': False}, {'visible': False}, {'visible': False}, {'visible': False}, {'visible': False}, {'visible': False}, {'visible': False}, {'visible': False}, {'visible': False}, {'visible': False}, {'visible': False}, {'visible': False}, {'visible': False}, {'visible': False}, {'visible': False}, {'visible': False}, {'visible': False}, {'visible': False}, {'visible': False}, {'visible': False}, {'visible': False}, {'visible': False}, {'visible': False}, {'visible': False}, {'visible': False}, {'visible': False}, {'visible': False}, {'visible': False}, {'visible': False}, {'visible': False}, {'visible': False}, {'visible': False}, {'visible': False}, {'visible': False}, {'visible': False}, {'visible': False}, {'visible': False}, {'visible': False}, {'visible': False}, {'visible': False}, {'visible': False}, {'visible': False}, {'visible': False}, {'visible': False}, {'visible': False}, {'visible': False}, {'visible': False}, {'visible': False}, {'visible': False}, {'visible': False}, {'visible': False}, {'visible': False}, {'visible': False}, {'visible': False}, {'visible': False}, {'visible': False}, {'visible': False}, {'visible': False}, {'visible': False}, {'visible': False}, {'visible': False}, {'visible': False}, {'visible': False}, {'visible': False}, {'visible': False}, {'visible': False}, {'visible': False}, {'visible': False}, {'visible': False}, {'visible': False}, {'visible': False}, {'visible': False}, {'visible': False}, {'visible': False}, {'visible': False}, {'visible': False}, {'visible': False}, {'visible': False}, {'visible': False}, {'visible': False}, {'visible': False}, {'visible': False}, {'visible': False}, {'visible': False}, {'visible': False}, {'visible': False}, {'visible': False}, {'visible': False}, {'visible': False}, {'visible': False}, {'visible': False}, {'visible': False}, {'visible': False}, {'visible': False}, {'visible': False}, {'visible': False}, {'visible': False}, {'visible': False}, {'visible': False}, {'visible': False}, {'visible': False}, {'visible': False}, {'visible': False}, {'visible': False}, {'visible': False}, {'visible': False}, {'visible': False}, {'visible': False}, {'visible': False}, {'visible': False}, {'visible': False}, {'visible': False}, {'visible': False}, {'visible': False}, {'visible': False}, {'visible': False}, {'visible': False}, {'visible': False}, {'visible': False}, {'visible': False}, {'visible': False}, {'visible': False}, {'visible': False}, {'visible': False}, {'visible': False}, {'visible': False}, {'visible': False}, {'visible': False}, {'visible': False}, {'visible': False}, {'visible': False}, {'visible': False}, {'visible': False}, {'visible': False}, {'visible': False}, {'visible': False}, {'visible': False}, {'visible': False}, {'visible': False}, {'visible': False}, {'visible': False}, {'visible': False}, {'visible': False}, {'visible': False}, {'visible': False}, {'visible': False}, {'visible': False}, {'visible': False}, {'visible': False}, {'visible': False}, {'visible': False}, {'visible': False}, {'visible': False}, {'visible': False}, {'visible': False}, {'visible': False}, {'visible': False}, {'visible': False}, {'visible': False}, {'visible': False}, {'visible': False}, {'visible': False}, {'visible': False}, {'visible': False}, {'visible': False}, {'visible': False}, {'visible': False}, {'visible': False}, {'visible': False}, {'visible': False}, {'visible': False}, {'visible': False}, {'visible': False}, {'visible': False}, {'visible': False}, {'visible': False}, {'visible': False}, {'visible': False}, {'visible': False}, {'visible': False}, {'visible': False}, {'visible': False}, {'visible': False}, {'visible': False}, {'visible': False}, {'visible': False}, {'visible': False}, {'visible': False}, {'visible': False}, {'visible': False}, {'visible': False}, {'visible': False}, {'visible': False}, {'visible': False}, {'visible': False}, {'visible': False}, {'visible': False}, {'visible': False}, {'visible': False}, {'visible': False}, {'visible': False}, {'visible': False}, {'visible': False}, {'visible': False}, {'visible': False}, {'visible': False}, {'visible': False}, {'visible': False}, {'visible': False}, {'visible': False}, {'visible': False}, {'visible': False}, {'visible': False}, {'visible': False}, {'visible': False}, {'visible': False}, {'visible': False}, {'visible': False}, {'visible': False}, {'visible': False}, {'visible': False}, {'visible': False}, {'visible': False}, {'visible': False}, {'visible': False}, {'visible': False}, {'visible': False}, {'visible': False}, {'visible': False}, {'visible': False}, {'visible': False}, {'visible': False}, {'visible': False}, {'visible': False}, {'visible': False}, {'visible': False}, {'visible': False}, {'visible': False}, {'visible': False}, {'visible': False}, {'visible': False}, {'visible': False}, {'visible': False}, {'visible': False}, {'visible': False}, {'visible': False}, {'visible': False}, {'visible': False}, {'visible': False}, {'visible': False}, {'visible': False}, {'visible': False}, {'visible': False}, {'visible': False}, {'visible': False}, {'visible': False}, {'visible': False}, {'visible': False}, {'visible': False}, {'visible': False}, {'visible': False}, {'visible': False}, {'visible': False}, {'visible': False}, {'visible': False}, {'visible': False}, {'visible': False}, {'visible': False}, {'visible': False}, {'visible': False}, {'visible': False}, {'visible': False}, {'visible': False}, {'visible': False}, {'visible': False}, {'visible': False}, {'visible': False}, {'visible': False}, {'visible': False}, {'visible': False}, {'visible': False}, {'visible': False}, {'visible': False}, {'visible': False}, {'visible': False}, {'visible': False}, {'visible': False}, {'visible': False}, {'visible': False}, {'visible': False}, {'visible': False}, {'visible': False}, {'visible': False}, {'visible': False}, {'visible': False}, {'visible': False}, {'visible': False}, {'visible': False}, {'visible': False}, {'visible': False}, {'visible': False}, {'visible': False}, {'visible': False}, {'visible': False}, {'visible': False}, {'visible': False}, {'visible': False}, {'visible': False}, {'visible': False}, {'visible': False}, {'visible': False}, {'visible': False}, {'visible': False}, {'visible': False}, {'visible': False}, {'visible': False}, {'visible': False}, {'visible': False}, {'visible': False}, {'visible': False}, {'visible': False}, {'visible': False}, {'visible': False}, {'visible': False}, {'visible': False}, {'visible': False}, {'visible': False}, {'visible': False}, {'visible': False}, {'visible': False}, {'visible': False}, {'visible': False}, {'visible': False}, {'visible': False}, {'visible': False}, {'visible': False}, {'visible': False}, {'visible': False}, {'visible': False}, {'visible': False}, {'visible': False}, {'visible': False}, {'visible': False}, {'visible': False}, {'visible': False}, {'visible': False}, {'visible': False}, {'visible': False}, {'visible': False}, {'visible': False}, {'visible': False}, {'visible': False}, {'visible': False}, {'visible': False}, {'visible': False}, {'visible': False}, {'visible': False}, {'visible': False}, {'visible': False}, {'visible': False}, {'visible': False}, {'visible': False}, {'visible': False}, {'visible': False}, {'visible': False}, {'visible': False}, {'visible': False}, {'visible': False}, {'visible': False}, {'visible': False}, {'visible': False}, {'visible': False}, {'visible': False}, {'visible': False}, {'visible': False}, {'visible': False}, {'visible': False}, {'visible': False}, {'visible': False}, {'visible': False}, {'visible': False}, {'visible': False}, {'visible': False}, {'visible': False}, {'visible': False}, {'visible': False}, {'visible': False}, {'visible': False}, {'visible': False}, {'visible': False}, {'visible': False}, {'visible': False}, {'visible': False}, {'visible': False}, {'visible': False}, {'visible': False}, {'visible': False}, {'visible': False}, {'visible': False}, {'visible': False}, {'visible': False}, {'visible': False}, {'visible': False}, {'visible': False}, {'visible': False}, {'visible': False}, {'visible': False}, {'visible': False}, {'visible': False}, {'visible': False}, {'visible': False}, {'visible': False}, {'visible': False}, {'visible': False}, {'visible': False}, {'visible': False}, {'visible': False}, {'visible': False}, {'visible': False}, {'visible': False}, {'visible': False}, {'visible': False}, {'visible': False}, {'visible': False}, {'visible': False}, {'visible': False}, {'visible': False}, {'visible': False}, {'visible': False}, {'visible': False}, {'visible': False}, {'visible': False}, {'visible': False}, {'visible': False}, {'visible': False}, {'visible': False}, {'visible': False}, {'visible': False}, {'visible': False}, {'visible': False}, {'visible': False}, {'visible': False}, {'visible': False}, {'visible': False}, {'visible': False}, {'visible': False}, {'visible': False}, {'visible': False}, {'visible': False}, {'visible': False}, {'visible': False}, {'visible': False}, {'visible': False}, {'visible': False}, {'visible': False}, {'visible': False}, {'visible': False}, {'visible': False}, {'visible': False}, {'visible': False}, {'visible': False}, {'visible': False}, {'visible': False}, {'visible': False}, {'visible': False}, {'visible': False}, {'visible': False}, {'visible': False}, {'visible': False}, {'visible': False}, {'visible': False}, {'visible': False}, {'visible': False}, {'visible': False}, {'visible': False}, {'visible': False}, {'visible': False}, {'visible': False}, {'visible': False}, {'visible': False}, {'visible': False}, {'visible': False}, {'visible': False}, {'visible': False}, {'visible': False}, {'visible': False}, {'visible': False}, {'visible': False}, {'visible': False}, {'visible': False}, {'visible': False}, {'visible': False}, {'visible': False}, {'visible': False}, {'visible': False}, {'visible': False}, {'visible': False}, {'visible': False}, {'visible': False}, {'visible': False}, {'visible': False}, {'visible': False}, {'visible': False}, {'visible': False}, {'visible': False}, {'visible': False}, {'visible': False}, {'visible': False}, {'visible': False}, {'visible': False}, {'visible': False}, {'visible': False}, {'visible': False}, {'visible': False}, {'visible': False}, {'visible': False}, {'visible': False}, {'visible': False}, {'visible': False}, {'visible': False}, {'visible': False}, {'visible': False}, {'visible': False}, {'visible': False}, {'visible': False}, {'visible': False}, {'visible': False}, {'visible': False}, {'visible': False}, {'visible': False}, {'visible': False}, {'visible': False}, {'visible': False}, {'visible': False}, {'visible': False}, {'visible': False}, {'visible': False}, {'visible': False}, {'visible': False}, {'visible': False}, {'visible': False}, {'visible': False}, {'visible': False}, {'visible': False}, {'visible': False}, {'visible': False}, {'visible': False}, {'visible': False}, {'visible': False}, {'visible': False}, {'visible': False}, {'visible': False}, {'visible': False}, {'visible': False}, {'visible': False}, {'visible': False}, {'visible': False}, {'visible': False}, {'visible': False}, {'visible': False}, {'visible': False}, {'visible': False}, {'visible': False}, {'visible': False}, {'visible': False}, {'visible': False}, {'visible': False}, {'visible': False}, {'visible': False}, {'visible': False}, {'visible': False}, {'visible': False}, {'visible': False}, {'visible': False}, {'visible': False}]\n\n    The 'args' property is an info array that may be specified as:\n\n    * a list or tuple of up to 3 elements where:\n(0) The 'args[0]' property accepts values of any type\n(1) The 'args[1]' property accepts values of any type\n(2) The 'args[2]' property accepts values of any type",
     "output_type": "error",
     "traceback": [
      "\u001b[0;31m---------------------------------------------------------------------------\u001b[0m",
      "\u001b[0;31mValueError\u001b[0m                                Traceback (most recent call last)",
      "Cell \u001b[0;32mIn[26], line 46\u001b[0m\n\u001b[1;32m     43\u001b[0m MAPBOX_TOKEN \u001b[38;5;241m=\u001b[39m \u001b[38;5;124m\"\u001b[39m\u001b[38;5;124mpk.eyJ1Ijoic2lkbWVodGEyNyIsImEiOiJjbGhkcjFtOTAwcDZuM2VwY2ZpajNvNjVpIn0.hyTG_Wdaz9eG6Zf21lidNA\u001b[39m\u001b[38;5;124m\"\u001b[39m\n\u001b[1;32m     45\u001b[0m \u001b[38;5;66;03m# Add the search bar to the figure layout\u001b[39;00m\n\u001b[0;32m---> 46\u001b[0m \u001b[43mfig\u001b[49m\u001b[38;5;241;43m.\u001b[39;49m\u001b[43mupdate_layout\u001b[49m\u001b[43m(\u001b[49m\n\u001b[1;32m     47\u001b[0m \u001b[43m    \u001b[49m\u001b[43mmapbox_style\u001b[49m\u001b[38;5;241;43m=\u001b[39;49m\u001b[38;5;124;43m\"\u001b[39;49m\u001b[38;5;124;43mopen-street-map\u001b[39;49m\u001b[38;5;124;43m\"\u001b[39;49m\u001b[43m,\u001b[49m\n\u001b[1;32m     48\u001b[0m \u001b[43m    \u001b[49m\u001b[43mmapbox\u001b[49m\u001b[38;5;241;43m=\u001b[39;49m\u001b[38;5;28;43mdict\u001b[39;49m\u001b[43m(\u001b[49m\u001b[43maccesstoken\u001b[49m\u001b[38;5;241;43m=\u001b[39;49m\u001b[43mMAPBOX_TOKEN\u001b[49m\u001b[43m,\u001b[49m\u001b[43m \u001b[49m\u001b[43mzoom\u001b[49m\u001b[38;5;241;43m=\u001b[39;49m\u001b[38;5;241;43m4\u001b[39;49m\u001b[43m,\u001b[49m\u001b[43m \u001b[49m\u001b[43mcenter\u001b[49m\u001b[38;5;241;43m=\u001b[39;49m\u001b[38;5;28;43mdict\u001b[39;49m\u001b[43m(\u001b[49m\u001b[43mlat\u001b[49m\u001b[38;5;241;43m=\u001b[39;49m\u001b[43mdf\u001b[49m\u001b[38;5;241;43m.\u001b[39;49m\u001b[43mlatitude\u001b[49m\u001b[38;5;241;43m.\u001b[39;49m\u001b[43mmean\u001b[49m\u001b[43m(\u001b[49m\u001b[43m)\u001b[49m\u001b[43m,\u001b[49m\u001b[43m \u001b[49m\u001b[43mlon\u001b[49m\u001b[38;5;241;43m=\u001b[39;49m\u001b[43mdf\u001b[49m\u001b[38;5;241;43m.\u001b[39;49m\u001b[43mlongitude\u001b[49m\u001b[38;5;241;43m.\u001b[39;49m\u001b[43mmean\u001b[49m\u001b[43m(\u001b[49m\u001b[43m)\u001b[49m\u001b[43m)\u001b[49m\u001b[43m)\u001b[49m\u001b[43m,\u001b[49m\n\u001b[1;32m     49\u001b[0m \u001b[43m    \u001b[49m\u001b[43mhovermode\u001b[49m\u001b[38;5;241;43m=\u001b[39;49m\u001b[38;5;124;43m'\u001b[39;49m\u001b[38;5;124;43mclosest\u001b[39;49m\u001b[38;5;124;43m'\u001b[39;49m\u001b[43m,\u001b[49m\n\u001b[1;32m     50\u001b[0m \u001b[43m    \u001b[49m\u001b[43mshowlegend\u001b[49m\u001b[38;5;241;43m=\u001b[39;49m\u001b[38;5;28;43;01mFalse\u001b[39;49;00m\u001b[43m,\u001b[49m\n\u001b[1;32m     51\u001b[0m \u001b[43m    \u001b[49m\u001b[43mmargin\u001b[49m\u001b[38;5;241;43m=\u001b[39;49m\u001b[38;5;28;43mdict\u001b[39;49m\u001b[43m(\u001b[49m\u001b[43ml\u001b[49m\u001b[38;5;241;43m=\u001b[39;49m\u001b[38;5;241;43m0\u001b[39;49m\u001b[43m,\u001b[49m\u001b[43m \u001b[49m\u001b[43mr\u001b[49m\u001b[38;5;241;43m=\u001b[39;49m\u001b[38;5;241;43m0\u001b[39;49m\u001b[43m,\u001b[49m\u001b[43m \u001b[49m\u001b[43mt\u001b[49m\u001b[38;5;241;43m=\u001b[39;49m\u001b[38;5;241;43m30\u001b[39;49m\u001b[43m,\u001b[49m\u001b[43m \u001b[49m\u001b[43mb\u001b[49m\u001b[38;5;241;43m=\u001b[39;49m\u001b[38;5;241;43m0\u001b[39;49m\u001b[43m)\u001b[49m\u001b[43m,\u001b[49m\n\u001b[1;32m     52\u001b[0m \u001b[43m    \u001b[49m\u001b[43mupdatemenus\u001b[49m\u001b[38;5;241;43m=\u001b[39;49m\u001b[43m[\u001b[49m\u001b[38;5;28;43mdict\u001b[39;49m\u001b[43m(\u001b[49m\u001b[38;5;28;43mtype\u001b[39;49m\u001b[38;5;241;43m=\u001b[39;49m\u001b[38;5;124;43m'\u001b[39;49m\u001b[38;5;124;43mbuttons\u001b[39;49m\u001b[38;5;124;43m'\u001b[39;49m\u001b[43m,\u001b[49m\n\u001b[1;32m     53\u001b[0m \u001b[43m                      \u001b[49m\u001b[43mshowactive\u001b[49m\u001b[38;5;241;43m=\u001b[39;49m\u001b[38;5;28;43;01mFalse\u001b[39;49;00m\u001b[43m,\u001b[49m\n\u001b[1;32m     54\u001b[0m \u001b[43m                      \u001b[49m\u001b[43mbuttons\u001b[49m\u001b[38;5;241;43m=\u001b[39;49m\u001b[43m[\u001b[49m\u001b[38;5;28;43mdict\u001b[39;49m\u001b[43m(\u001b[49m\u001b[43mlabel\u001b[49m\u001b[38;5;241;43m=\u001b[39;49m\u001b[38;5;124;43m'\u001b[39;49m\u001b[38;5;124;43mHide all\u001b[39;49m\u001b[38;5;124;43m'\u001b[39;49m\u001b[43m,\u001b[49m\u001b[43m \u001b[49m\u001b[43mmethod\u001b[49m\u001b[38;5;241;43m=\u001b[39;49m\u001b[38;5;124;43m'\u001b[39;49m\u001b[38;5;124;43mupdate\u001b[39;49m\u001b[38;5;124;43m'\u001b[39;49m\u001b[43m,\u001b[49m\n\u001b[1;32m     55\u001b[0m \u001b[43m                                     \u001b[49m\u001b[43margs\u001b[49m\u001b[38;5;241;43m=\u001b[39;49m\u001b[43m[\u001b[49m\u001b[43m{\u001b[49m\u001b[38;5;124;43m'\u001b[39;49m\u001b[38;5;124;43mvisible\u001b[39;49m\u001b[38;5;124;43m'\u001b[39;49m\u001b[43m:\u001b[49m\u001b[43m \u001b[49m\u001b[38;5;28;43;01mFalse\u001b[39;49;00m\u001b[43m}\u001b[49m\u001b[43m]\u001b[49m\u001b[38;5;241;43m*\u001b[39;49m\u001b[38;5;28;43mlen\u001b[39;49m\u001b[43m(\u001b[49m\u001b[43mcols\u001b[49m\u001b[43m)\u001b[49m\u001b[43m)\u001b[49m\u001b[43m,\u001b[49m\n\u001b[1;32m     56\u001b[0m \u001b[43m                               \u001b[49m\u001b[38;5;28;43mdict\u001b[39;49m\u001b[43m(\u001b[49m\u001b[43mlabel\u001b[49m\u001b[38;5;241;43m=\u001b[39;49m\u001b[38;5;124;43m'\u001b[39;49m\u001b[38;5;124;43mShow all\u001b[39;49m\u001b[38;5;124;43m'\u001b[39;49m\u001b[43m,\u001b[49m\u001b[43m \u001b[49m\u001b[43mmethod\u001b[49m\u001b[38;5;241;43m=\u001b[39;49m\u001b[38;5;124;43m'\u001b[39;49m\u001b[38;5;124;43mupdate\u001b[39;49m\u001b[38;5;124;43m'\u001b[39;49m\u001b[43m,\u001b[49m\n\u001b[1;32m     57\u001b[0m \u001b[43m                                     \u001b[49m\u001b[43margs\u001b[49m\u001b[38;5;241;43m=\u001b[39;49m\u001b[43m[\u001b[49m\u001b[43m{\u001b[49m\u001b[38;5;124;43m'\u001b[39;49m\u001b[38;5;124;43mvisible\u001b[39;49m\u001b[38;5;124;43m'\u001b[39;49m\u001b[43m:\u001b[49m\u001b[43m \u001b[49m\u001b[38;5;28;43;01mTrue\u001b[39;49;00m\u001b[43m}\u001b[49m\u001b[43m]\u001b[49m\u001b[38;5;241;43m*\u001b[39;49m\u001b[38;5;28;43mlen\u001b[39;49m\u001b[43m(\u001b[49m\u001b[43mcols\u001b[49m\u001b[43m)\u001b[49m\u001b[43m)\u001b[49m\u001b[43m]\u001b[49m\u001b[43m)\u001b[49m\u001b[43m]\u001b[49m\u001b[43m,\u001b[49m\n\u001b[1;32m     58\u001b[0m \u001b[43m    \u001b[49m\u001b[43mannotations\u001b[49m\u001b[38;5;241;43m=\u001b[39;49m\u001b[43m[\u001b[49m\u001b[38;5;28;43mdict\u001b[39;49m\u001b[43m(\u001b[49m\u001b[43mtext\u001b[49m\u001b[38;5;241;43m=\u001b[39;49m\u001b[43msearch_bar\u001b[49m\u001b[43m,\u001b[49m\u001b[43m \u001b[49m\u001b[43mshowarrow\u001b[49m\u001b[38;5;241;43m=\u001b[39;49m\u001b[38;5;28;43;01mFalse\u001b[39;49;00m\u001b[43m,\u001b[49m\u001b[43m \u001b[49m\u001b[43mxref\u001b[49m\u001b[38;5;241;43m=\u001b[39;49m\u001b[38;5;124;43m'\u001b[39;49m\u001b[38;5;124;43mpaper\u001b[39;49m\u001b[38;5;124;43m'\u001b[39;49m\u001b[43m,\u001b[49m\u001b[43m \u001b[49m\u001b[43myref\u001b[49m\u001b[38;5;241;43m=\u001b[39;49m\u001b[38;5;124;43m'\u001b[39;49m\u001b[38;5;124;43mpaper\u001b[39;49m\u001b[38;5;124;43m'\u001b[39;49m\u001b[43m,\u001b[49m\n\u001b[1;32m     59\u001b[0m \u001b[43m                      \u001b[49m\u001b[43mx\u001b[49m\u001b[38;5;241;43m=\u001b[39;49m\u001b[38;5;241;43m0.5\u001b[39;49m\u001b[43m,\u001b[49m\u001b[43m \u001b[49m\u001b[43my\u001b[49m\u001b[38;5;241;43m=\u001b[39;49m\u001b[38;5;241;43m1.05\u001b[39;49m\u001b[43m,\u001b[49m\u001b[43m \u001b[49m\u001b[43malign\u001b[49m\u001b[38;5;241;43m=\u001b[39;49m\u001b[38;5;124;43m'\u001b[39;49m\u001b[38;5;124;43mcenter\u001b[39;49m\u001b[38;5;124;43m'\u001b[39;49m\u001b[43m,\u001b[49m\u001b[43m \u001b[49m\u001b[43mfont\u001b[49m\u001b[38;5;241;43m=\u001b[39;49m\u001b[38;5;28;43mdict\u001b[39;49m\u001b[43m(\u001b[49m\u001b[43msize\u001b[49m\u001b[38;5;241;43m=\u001b[39;49m\u001b[38;5;241;43m12\u001b[39;49m\u001b[43m)\u001b[49m\u001b[43m)\u001b[49m\u001b[43m]\u001b[49m\u001b[43m,\u001b[49m\n\u001b[1;32m     60\u001b[0m \u001b[43m)\u001b[49m\n\u001b[1;32m     62\u001b[0m \u001b[38;5;66;03m# Save the map as an HTML file\u001b[39;00m\n\u001b[1;32m     63\u001b[0m fig\u001b[38;5;241m.\u001b[39mwrite_html(\u001b[38;5;124m\"\u001b[39m\u001b[38;5;124mmap_plotly.html\u001b[39m\u001b[38;5;124m\"\u001b[39m)\n",
      "File \u001b[0;32m/Library/Frameworks/Python.framework/Versions/3.11/lib/python3.11/site-packages/plotly/graph_objs/_figure.py:775\u001b[0m, in \u001b[0;36mFigure.update_layout\u001b[0;34m(self, dict1, overwrite, **kwargs)\u001b[0m\n\u001b[1;32m    749\u001b[0m \u001b[38;5;28;01mdef\u001b[39;00m \u001b[38;5;21mupdate_layout\u001b[39m(\u001b[38;5;28mself\u001b[39m, dict1\u001b[38;5;241m=\u001b[39m\u001b[38;5;28;01mNone\u001b[39;00m, overwrite\u001b[38;5;241m=\u001b[39m\u001b[38;5;28;01mFalse\u001b[39;00m, \u001b[38;5;241m*\u001b[39m\u001b[38;5;241m*\u001b[39mkwargs) \u001b[38;5;241m-\u001b[39m\u001b[38;5;241m>\u001b[39m \u001b[38;5;124m\"\u001b[39m\u001b[38;5;124mFigure\u001b[39m\u001b[38;5;124m\"\u001b[39m:\n\u001b[1;32m    750\u001b[0m \u001b[38;5;250m    \u001b[39m\u001b[38;5;124;03m\"\"\"\u001b[39;00m\n\u001b[1;32m    751\u001b[0m \n\u001b[1;32m    752\u001b[0m \u001b[38;5;124;03m    Update the properties of the figure's layout with a dict and/or with\u001b[39;00m\n\u001b[0;32m   (...)\u001b[0m\n\u001b[1;32m    773\u001b[0m \n\u001b[1;32m    774\u001b[0m \u001b[38;5;124;03m    \"\"\"\u001b[39;00m\n\u001b[0;32m--> 775\u001b[0m     \u001b[38;5;28;01mreturn\u001b[39;00m \u001b[38;5;28;43msuper\u001b[39;49m\u001b[43m(\u001b[49m\u001b[43mFigure\u001b[49m\u001b[43m,\u001b[49m\u001b[43m \u001b[49m\u001b[38;5;28;43mself\u001b[39;49m\u001b[43m)\u001b[49m\u001b[38;5;241;43m.\u001b[39;49m\u001b[43mupdate_layout\u001b[49m\u001b[43m(\u001b[49m\u001b[43mdict1\u001b[49m\u001b[43m,\u001b[49m\u001b[43m \u001b[49m\u001b[43moverwrite\u001b[49m\u001b[43m,\u001b[49m\u001b[43m \u001b[49m\u001b[38;5;241;43m*\u001b[39;49m\u001b[38;5;241;43m*\u001b[39;49m\u001b[43mkwargs\u001b[49m\u001b[43m)\u001b[49m\n",
      "File \u001b[0;32m/Library/Frameworks/Python.framework/Versions/3.11/lib/python3.11/site-packages/plotly/basedatatypes.py:1393\u001b[0m, in \u001b[0;36mBaseFigure.update_layout\u001b[0;34m(self, dict1, overwrite, **kwargs)\u001b[0m\n\u001b[1;32m   1369\u001b[0m \u001b[38;5;28;01mdef\u001b[39;00m \u001b[38;5;21mupdate_layout\u001b[39m(\u001b[38;5;28mself\u001b[39m, dict1\u001b[38;5;241m=\u001b[39m\u001b[38;5;28;01mNone\u001b[39;00m, overwrite\u001b[38;5;241m=\u001b[39m\u001b[38;5;28;01mFalse\u001b[39;00m, \u001b[38;5;241m*\u001b[39m\u001b[38;5;241m*\u001b[39mkwargs):\n\u001b[1;32m   1370\u001b[0m \u001b[38;5;250m    \u001b[39m\u001b[38;5;124;03m\"\"\"\u001b[39;00m\n\u001b[1;32m   1371\u001b[0m \u001b[38;5;124;03m    Update the properties of the figure's layout with a dict and/or with\u001b[39;00m\n\u001b[1;32m   1372\u001b[0m \u001b[38;5;124;03m    keyword arguments.\u001b[39;00m\n\u001b[0;32m   (...)\u001b[0m\n\u001b[1;32m   1391\u001b[0m \u001b[38;5;124;03m        The Figure object that the update_layout method was called on\u001b[39;00m\n\u001b[1;32m   1392\u001b[0m \u001b[38;5;124;03m    \"\"\"\u001b[39;00m\n\u001b[0;32m-> 1393\u001b[0m     \u001b[38;5;28;43mself\u001b[39;49m\u001b[38;5;241;43m.\u001b[39;49m\u001b[43mlayout\u001b[49m\u001b[38;5;241;43m.\u001b[39;49m\u001b[43mupdate\u001b[49m\u001b[43m(\u001b[49m\u001b[43mdict1\u001b[49m\u001b[43m,\u001b[49m\u001b[43m \u001b[49m\u001b[43moverwrite\u001b[49m\u001b[38;5;241;43m=\u001b[39;49m\u001b[43moverwrite\u001b[49m\u001b[43m,\u001b[49m\u001b[43m \u001b[49m\u001b[38;5;241;43m*\u001b[39;49m\u001b[38;5;241;43m*\u001b[39;49m\u001b[43mkwargs\u001b[49m\u001b[43m)\u001b[49m\n\u001b[1;32m   1394\u001b[0m     \u001b[38;5;28;01mreturn\u001b[39;00m \u001b[38;5;28mself\u001b[39m\n",
      "File \u001b[0;32m/Library/Frameworks/Python.framework/Versions/3.11/lib/python3.11/site-packages/plotly/basedatatypes.py:5113\u001b[0m, in \u001b[0;36mBasePlotlyType.update\u001b[0;34m(self, dict1, overwrite, **kwargs)\u001b[0m\n\u001b[1;32m   5111\u001b[0m     \u001b[38;5;28;01mwith\u001b[39;00m \u001b[38;5;28mself\u001b[39m\u001b[38;5;241m.\u001b[39mfigure\u001b[38;5;241m.\u001b[39mbatch_update():\n\u001b[1;32m   5112\u001b[0m         BaseFigure\u001b[38;5;241m.\u001b[39m_perform_update(\u001b[38;5;28mself\u001b[39m, dict1, overwrite\u001b[38;5;241m=\u001b[39moverwrite)\n\u001b[0;32m-> 5113\u001b[0m         \u001b[43mBaseFigure\u001b[49m\u001b[38;5;241;43m.\u001b[39;49m\u001b[43m_perform_update\u001b[49m\u001b[43m(\u001b[49m\u001b[38;5;28;43mself\u001b[39;49m\u001b[43m,\u001b[49m\u001b[43m \u001b[49m\u001b[43mkwargs\u001b[49m\u001b[43m,\u001b[49m\u001b[43m \u001b[49m\u001b[43moverwrite\u001b[49m\u001b[38;5;241;43m=\u001b[39;49m\u001b[43moverwrite\u001b[49m\u001b[43m)\u001b[49m\n\u001b[1;32m   5114\u001b[0m \u001b[38;5;28;01melse\u001b[39;00m:\n\u001b[1;32m   5115\u001b[0m     BaseFigure\u001b[38;5;241m.\u001b[39m_perform_update(\u001b[38;5;28mself\u001b[39m, dict1, overwrite\u001b[38;5;241m=\u001b[39moverwrite)\n",
      "File \u001b[0;32m/Library/Frameworks/Python.framework/Versions/3.11/lib/python3.11/site-packages/plotly/basedatatypes.py:3917\u001b[0m, in \u001b[0;36mBaseFigure._perform_update\u001b[0;34m(plotly_obj, update_obj, overwrite)\u001b[0m\n\u001b[1;32m   3911\u001b[0m             plotly_obj[key] \u001b[38;5;241m=\u001b[39m plotly_obj[key] \u001b[38;5;241m+\u001b[39m \u001b[38;5;28mtuple\u001b[39m(\n\u001b[1;32m   3912\u001b[0m                 val[\u001b[38;5;28mlen\u001b[39m(plotly_obj[key]) :]\n\u001b[1;32m   3913\u001b[0m             )\n\u001b[1;32m   3914\u001b[0m     \u001b[38;5;28;01melse\u001b[39;00m:\n\u001b[1;32m   3915\u001b[0m         \u001b[38;5;66;03m# plotly_obj is an empty or uninitialized list for key\u001b[39;00m\n\u001b[1;32m   3916\u001b[0m         \u001b[38;5;66;03m# In this case we accept val as is\u001b[39;00m\n\u001b[0;32m-> 3917\u001b[0m         \u001b[43mplotly_obj\u001b[49m\u001b[43m[\u001b[49m\u001b[43mkey\u001b[49m\u001b[43m]\u001b[49m \u001b[38;5;241m=\u001b[39m val\n\u001b[1;32m   3918\u001b[0m \u001b[38;5;28;01melse\u001b[39;00m:\n\u001b[1;32m   3919\u001b[0m     \u001b[38;5;66;03m# Assign non-compound value\u001b[39;00m\n\u001b[1;32m   3920\u001b[0m     plotly_obj[key] \u001b[38;5;241m=\u001b[39m val\n",
      "File \u001b[0;32m/Library/Frameworks/Python.framework/Versions/3.11/lib/python3.11/site-packages/plotly/basedatatypes.py:5852\u001b[0m, in \u001b[0;36mBaseLayoutType.__setitem__\u001b[0;34m(self, prop, value)\u001b[0m\n\u001b[1;32m   5849\u001b[0m match \u001b[38;5;241m=\u001b[39m \u001b[38;5;28mself\u001b[39m\u001b[38;5;241m.\u001b[39m_subplot_re_match(prop)\n\u001b[1;32m   5850\u001b[0m \u001b[38;5;28;01mif\u001b[39;00m match \u001b[38;5;129;01mis\u001b[39;00m \u001b[38;5;28;01mNone\u001b[39;00m:\n\u001b[1;32m   5851\u001b[0m     \u001b[38;5;66;03m# Set as ordinary property\u001b[39;00m\n\u001b[0;32m-> 5852\u001b[0m     \u001b[38;5;28;43msuper\u001b[39;49m\u001b[43m(\u001b[49m\u001b[43mBaseLayoutHierarchyType\u001b[49m\u001b[43m,\u001b[49m\u001b[43m \u001b[49m\u001b[38;5;28;43mself\u001b[39;49m\u001b[43m)\u001b[49m\u001b[38;5;241;43m.\u001b[39;49m\u001b[38;5;21;43m__setitem__\u001b[39;49m\u001b[43m(\u001b[49m\u001b[43mprop\u001b[49m\u001b[43m,\u001b[49m\u001b[43m \u001b[49m\u001b[43mvalue\u001b[49m\u001b[43m)\u001b[49m\n\u001b[1;32m   5853\u001b[0m \u001b[38;5;28;01melse\u001b[39;00m:\n\u001b[1;32m   5854\u001b[0m     \u001b[38;5;66;03m# Set as subplotid property\u001b[39;00m\n\u001b[1;32m   5855\u001b[0m     \u001b[38;5;28mself\u001b[39m\u001b[38;5;241m.\u001b[39m_set_subplotid_prop(prop, value)\n",
      "File \u001b[0;32m/Library/Frameworks/Python.framework/Versions/3.11/lib/python3.11/site-packages/plotly/basedatatypes.py:4846\u001b[0m, in \u001b[0;36mBasePlotlyType.__setitem__\u001b[0;34m(self, prop, value)\u001b[0m\n\u001b[1;32m   4844\u001b[0m \u001b[38;5;66;03m# ### Handle compound array property ###\u001b[39;00m\n\u001b[1;32m   4845\u001b[0m \u001b[38;5;28;01melif\u001b[39;00m \u001b[38;5;28misinstance\u001b[39m(validator, (CompoundArrayValidator, BaseDataValidator)):\n\u001b[0;32m-> 4846\u001b[0m     \u001b[38;5;28;43mself\u001b[39;49m\u001b[38;5;241;43m.\u001b[39;49m\u001b[43m_set_array_prop\u001b[49m\u001b[43m(\u001b[49m\u001b[43mprop\u001b[49m\u001b[43m,\u001b[49m\u001b[43m \u001b[49m\u001b[43mvalue\u001b[49m\u001b[43m)\u001b[49m\n\u001b[1;32m   4848\u001b[0m \u001b[38;5;66;03m# ### Handle simple property ###\u001b[39;00m\n\u001b[1;32m   4849\u001b[0m \u001b[38;5;28;01melse\u001b[39;00m:\n\u001b[1;32m   4850\u001b[0m     \u001b[38;5;28mself\u001b[39m\u001b[38;5;241m.\u001b[39m_set_prop(prop, value)\n",
      "File \u001b[0;32m/Library/Frameworks/Python.framework/Versions/3.11/lib/python3.11/site-packages/plotly/basedatatypes.py:5327\u001b[0m, in \u001b[0;36mBasePlotlyType._set_array_prop\u001b[0;34m(self, prop, val)\u001b[0m\n\u001b[1;32m   5324\u001b[0m \u001b[38;5;66;03m# Import value\u001b[39;00m\n\u001b[1;32m   5325\u001b[0m \u001b[38;5;66;03m# ------------\u001b[39;00m\n\u001b[1;32m   5326\u001b[0m validator \u001b[38;5;241m=\u001b[39m \u001b[38;5;28mself\u001b[39m\u001b[38;5;241m.\u001b[39m_get_validator(prop)\n\u001b[0;32m-> 5327\u001b[0m val \u001b[38;5;241m=\u001b[39m \u001b[43mvalidator\u001b[49m\u001b[38;5;241;43m.\u001b[39;49m\u001b[43mvalidate_coerce\u001b[49m\u001b[43m(\u001b[49m\u001b[43mval\u001b[49m\u001b[43m,\u001b[49m\u001b[43m \u001b[49m\u001b[43mskip_invalid\u001b[49m\u001b[38;5;241;43m=\u001b[39;49m\u001b[38;5;28;43mself\u001b[39;49m\u001b[38;5;241;43m.\u001b[39;49m\u001b[43m_skip_invalid\u001b[49m\u001b[43m)\u001b[49m\n\u001b[1;32m   5329\u001b[0m \u001b[38;5;66;03m# Save deep copies of current and new states\u001b[39;00m\n\u001b[1;32m   5330\u001b[0m \u001b[38;5;66;03m# ------------------------------------------\u001b[39;00m\n\u001b[1;32m   5331\u001b[0m curr_val \u001b[38;5;241m=\u001b[39m \u001b[38;5;28mself\u001b[39m\u001b[38;5;241m.\u001b[39m_compound_array_props\u001b[38;5;241m.\u001b[39mget(prop, \u001b[38;5;28;01mNone\u001b[39;00m)\n",
      "File \u001b[0;32m/Library/Frameworks/Python.framework/Versions/3.11/lib/python3.11/site-packages/_plotly_utils/basevalidators.py:2568\u001b[0m, in \u001b[0;36mCompoundArrayValidator.validate_coerce\u001b[0;34m(self, v, skip_invalid)\u001b[0m\n\u001b[1;32m   2566\u001b[0m     res\u001b[38;5;241m.\u001b[39mappend(\u001b[38;5;28mself\u001b[39m\u001b[38;5;241m.\u001b[39mdata_class(v_el))\n\u001b[1;32m   2567\u001b[0m \u001b[38;5;28;01melif\u001b[39;00m \u001b[38;5;28misinstance\u001b[39m(v_el, \u001b[38;5;28mdict\u001b[39m):\n\u001b[0;32m-> 2568\u001b[0m     res\u001b[38;5;241m.\u001b[39mappend(\u001b[38;5;28;43mself\u001b[39;49m\u001b[38;5;241;43m.\u001b[39;49m\u001b[43mdata_class\u001b[49m\u001b[43m(\u001b[49m\u001b[43mv_el\u001b[49m\u001b[43m,\u001b[49m\u001b[43m \u001b[49m\u001b[43mskip_invalid\u001b[49m\u001b[38;5;241;43m=\u001b[39;49m\u001b[43mskip_invalid\u001b[49m\u001b[43m)\u001b[49m)\n\u001b[1;32m   2569\u001b[0m \u001b[38;5;28;01melse\u001b[39;00m:\n\u001b[1;32m   2570\u001b[0m     \u001b[38;5;28;01mif\u001b[39;00m skip_invalid:\n",
      "File \u001b[0;32m/Library/Frameworks/Python.framework/Versions/3.11/lib/python3.11/site-packages/plotly/graph_objs/layout/_updatemenu.py:845\u001b[0m, in \u001b[0;36mUpdatemenu.__init__\u001b[0;34m(self, arg, active, bgcolor, bordercolor, borderwidth, buttons, buttondefaults, direction, font, name, pad, showactive, templateitemname, type, visible, x, xanchor, y, yanchor, **kwargs)\u001b[0m\n\u001b[1;32m    843\u001b[0m _v \u001b[38;5;241m=\u001b[39m buttons \u001b[38;5;28;01mif\u001b[39;00m buttons \u001b[38;5;129;01mis\u001b[39;00m \u001b[38;5;129;01mnot\u001b[39;00m \u001b[38;5;28;01mNone\u001b[39;00m \u001b[38;5;28;01melse\u001b[39;00m _v\n\u001b[1;32m    844\u001b[0m \u001b[38;5;28;01mif\u001b[39;00m _v \u001b[38;5;129;01mis\u001b[39;00m \u001b[38;5;129;01mnot\u001b[39;00m \u001b[38;5;28;01mNone\u001b[39;00m:\n\u001b[0;32m--> 845\u001b[0m     \u001b[38;5;28;43mself\u001b[39;49m\u001b[43m[\u001b[49m\u001b[38;5;124;43m\"\u001b[39;49m\u001b[38;5;124;43mbuttons\u001b[39;49m\u001b[38;5;124;43m\"\u001b[39;49m\u001b[43m]\u001b[49m \u001b[38;5;241m=\u001b[39m _v\n\u001b[1;32m    846\u001b[0m _v \u001b[38;5;241m=\u001b[39m arg\u001b[38;5;241m.\u001b[39mpop(\u001b[38;5;124m\"\u001b[39m\u001b[38;5;124mbuttondefaults\u001b[39m\u001b[38;5;124m\"\u001b[39m, \u001b[38;5;28;01mNone\u001b[39;00m)\n\u001b[1;32m    847\u001b[0m _v \u001b[38;5;241m=\u001b[39m buttondefaults \u001b[38;5;28;01mif\u001b[39;00m buttondefaults \u001b[38;5;129;01mis\u001b[39;00m \u001b[38;5;129;01mnot\u001b[39;00m \u001b[38;5;28;01mNone\u001b[39;00m \u001b[38;5;28;01melse\u001b[39;00m _v\n",
      "File \u001b[0;32m/Library/Frameworks/Python.framework/Versions/3.11/lib/python3.11/site-packages/plotly/basedatatypes.py:4846\u001b[0m, in \u001b[0;36mBasePlotlyType.__setitem__\u001b[0;34m(self, prop, value)\u001b[0m\n\u001b[1;32m   4844\u001b[0m \u001b[38;5;66;03m# ### Handle compound array property ###\u001b[39;00m\n\u001b[1;32m   4845\u001b[0m \u001b[38;5;28;01melif\u001b[39;00m \u001b[38;5;28misinstance\u001b[39m(validator, (CompoundArrayValidator, BaseDataValidator)):\n\u001b[0;32m-> 4846\u001b[0m     \u001b[38;5;28;43mself\u001b[39;49m\u001b[38;5;241;43m.\u001b[39;49m\u001b[43m_set_array_prop\u001b[49m\u001b[43m(\u001b[49m\u001b[43mprop\u001b[49m\u001b[43m,\u001b[49m\u001b[43m \u001b[49m\u001b[43mvalue\u001b[49m\u001b[43m)\u001b[49m\n\u001b[1;32m   4848\u001b[0m \u001b[38;5;66;03m# ### Handle simple property ###\u001b[39;00m\n\u001b[1;32m   4849\u001b[0m \u001b[38;5;28;01melse\u001b[39;00m:\n\u001b[1;32m   4850\u001b[0m     \u001b[38;5;28mself\u001b[39m\u001b[38;5;241m.\u001b[39m_set_prop(prop, value)\n",
      "File \u001b[0;32m/Library/Frameworks/Python.framework/Versions/3.11/lib/python3.11/site-packages/plotly/basedatatypes.py:5327\u001b[0m, in \u001b[0;36mBasePlotlyType._set_array_prop\u001b[0;34m(self, prop, val)\u001b[0m\n\u001b[1;32m   5324\u001b[0m \u001b[38;5;66;03m# Import value\u001b[39;00m\n\u001b[1;32m   5325\u001b[0m \u001b[38;5;66;03m# ------------\u001b[39;00m\n\u001b[1;32m   5326\u001b[0m validator \u001b[38;5;241m=\u001b[39m \u001b[38;5;28mself\u001b[39m\u001b[38;5;241m.\u001b[39m_get_validator(prop)\n\u001b[0;32m-> 5327\u001b[0m val \u001b[38;5;241m=\u001b[39m \u001b[43mvalidator\u001b[49m\u001b[38;5;241;43m.\u001b[39;49m\u001b[43mvalidate_coerce\u001b[49m\u001b[43m(\u001b[49m\u001b[43mval\u001b[49m\u001b[43m,\u001b[49m\u001b[43m \u001b[49m\u001b[43mskip_invalid\u001b[49m\u001b[38;5;241;43m=\u001b[39;49m\u001b[38;5;28;43mself\u001b[39;49m\u001b[38;5;241;43m.\u001b[39;49m\u001b[43m_skip_invalid\u001b[49m\u001b[43m)\u001b[49m\n\u001b[1;32m   5329\u001b[0m \u001b[38;5;66;03m# Save deep copies of current and new states\u001b[39;00m\n\u001b[1;32m   5330\u001b[0m \u001b[38;5;66;03m# ------------------------------------------\u001b[39;00m\n\u001b[1;32m   5331\u001b[0m curr_val \u001b[38;5;241m=\u001b[39m \u001b[38;5;28mself\u001b[39m\u001b[38;5;241m.\u001b[39m_compound_array_props\u001b[38;5;241m.\u001b[39mget(prop, \u001b[38;5;28;01mNone\u001b[39;00m)\n",
      "File \u001b[0;32m/Library/Frameworks/Python.framework/Versions/3.11/lib/python3.11/site-packages/_plotly_utils/basevalidators.py:2568\u001b[0m, in \u001b[0;36mCompoundArrayValidator.validate_coerce\u001b[0;34m(self, v, skip_invalid)\u001b[0m\n\u001b[1;32m   2566\u001b[0m     res\u001b[38;5;241m.\u001b[39mappend(\u001b[38;5;28mself\u001b[39m\u001b[38;5;241m.\u001b[39mdata_class(v_el))\n\u001b[1;32m   2567\u001b[0m \u001b[38;5;28;01melif\u001b[39;00m \u001b[38;5;28misinstance\u001b[39m(v_el, \u001b[38;5;28mdict\u001b[39m):\n\u001b[0;32m-> 2568\u001b[0m     res\u001b[38;5;241m.\u001b[39mappend(\u001b[38;5;28;43mself\u001b[39;49m\u001b[38;5;241;43m.\u001b[39;49m\u001b[43mdata_class\u001b[49m\u001b[43m(\u001b[49m\u001b[43mv_el\u001b[49m\u001b[43m,\u001b[49m\u001b[43m \u001b[49m\u001b[43mskip_invalid\u001b[49m\u001b[38;5;241;43m=\u001b[39;49m\u001b[43mskip_invalid\u001b[49m\u001b[43m)\u001b[49m)\n\u001b[1;32m   2569\u001b[0m \u001b[38;5;28;01melse\u001b[39;00m:\n\u001b[1;32m   2570\u001b[0m     \u001b[38;5;28;01mif\u001b[39;00m skip_invalid:\n",
      "File \u001b[0;32m/Library/Frameworks/Python.framework/Versions/3.11/lib/python3.11/site-packages/plotly/graph_objs/layout/updatemenu/_button.py:380\u001b[0m, in \u001b[0;36mButton.__init__\u001b[0;34m(self, arg, args, args2, execute, label, method, name, templateitemname, visible, **kwargs)\u001b[0m\n\u001b[1;32m    378\u001b[0m _v \u001b[38;5;241m=\u001b[39m args \u001b[38;5;28;01mif\u001b[39;00m args \u001b[38;5;129;01mis\u001b[39;00m \u001b[38;5;129;01mnot\u001b[39;00m \u001b[38;5;28;01mNone\u001b[39;00m \u001b[38;5;28;01melse\u001b[39;00m _v\n\u001b[1;32m    379\u001b[0m \u001b[38;5;28;01mif\u001b[39;00m _v \u001b[38;5;129;01mis\u001b[39;00m \u001b[38;5;129;01mnot\u001b[39;00m \u001b[38;5;28;01mNone\u001b[39;00m:\n\u001b[0;32m--> 380\u001b[0m     \u001b[38;5;28;43mself\u001b[39;49m\u001b[43m[\u001b[49m\u001b[38;5;124;43m\"\u001b[39;49m\u001b[38;5;124;43margs\u001b[39;49m\u001b[38;5;124;43m\"\u001b[39;49m\u001b[43m]\u001b[49m \u001b[38;5;241m=\u001b[39m _v\n\u001b[1;32m    381\u001b[0m _v \u001b[38;5;241m=\u001b[39m arg\u001b[38;5;241m.\u001b[39mpop(\u001b[38;5;124m\"\u001b[39m\u001b[38;5;124margs2\u001b[39m\u001b[38;5;124m\"\u001b[39m, \u001b[38;5;28;01mNone\u001b[39;00m)\n\u001b[1;32m    382\u001b[0m _v \u001b[38;5;241m=\u001b[39m args2 \u001b[38;5;28;01mif\u001b[39;00m args2 \u001b[38;5;129;01mis\u001b[39;00m \u001b[38;5;129;01mnot\u001b[39;00m \u001b[38;5;28;01mNone\u001b[39;00m \u001b[38;5;28;01melse\u001b[39;00m _v\n",
      "File \u001b[0;32m/Library/Frameworks/Python.framework/Versions/3.11/lib/python3.11/site-packages/plotly/basedatatypes.py:4850\u001b[0m, in \u001b[0;36mBasePlotlyType.__setitem__\u001b[0;34m(self, prop, value)\u001b[0m\n\u001b[1;32m   4846\u001b[0m         \u001b[38;5;28mself\u001b[39m\u001b[38;5;241m.\u001b[39m_set_array_prop(prop, value)\n\u001b[1;32m   4848\u001b[0m     \u001b[38;5;66;03m# ### Handle simple property ###\u001b[39;00m\n\u001b[1;32m   4849\u001b[0m     \u001b[38;5;28;01melse\u001b[39;00m:\n\u001b[0;32m-> 4850\u001b[0m         \u001b[38;5;28;43mself\u001b[39;49m\u001b[38;5;241;43m.\u001b[39;49m\u001b[43m_set_prop\u001b[49m\u001b[43m(\u001b[49m\u001b[43mprop\u001b[49m\u001b[43m,\u001b[49m\u001b[43m \u001b[49m\u001b[43mvalue\u001b[49m\u001b[43m)\u001b[49m\n\u001b[1;32m   4851\u001b[0m \u001b[38;5;28;01melse\u001b[39;00m:\n\u001b[1;32m   4852\u001b[0m     \u001b[38;5;66;03m# Make sure properties dict is initialized\u001b[39;00m\n\u001b[1;32m   4853\u001b[0m     \u001b[38;5;28mself\u001b[39m\u001b[38;5;241m.\u001b[39m_init_props()\n",
      "File \u001b[0;32m/Library/Frameworks/Python.framework/Versions/3.11/lib/python3.11/site-packages/plotly/basedatatypes.py:5194\u001b[0m, in \u001b[0;36mBasePlotlyType._set_prop\u001b[0;34m(self, prop, val)\u001b[0m\n\u001b[1;32m   5192\u001b[0m         \u001b[38;5;28;01mreturn\u001b[39;00m\n\u001b[1;32m   5193\u001b[0m     \u001b[38;5;28;01melse\u001b[39;00m:\n\u001b[0;32m-> 5194\u001b[0m         \u001b[38;5;28;01mraise\u001b[39;00m err\n\u001b[1;32m   5196\u001b[0m \u001b[38;5;66;03m# val is None\u001b[39;00m\n\u001b[1;32m   5197\u001b[0m \u001b[38;5;66;03m# -----------\u001b[39;00m\n\u001b[1;32m   5198\u001b[0m \u001b[38;5;28;01mif\u001b[39;00m val \u001b[38;5;129;01mis\u001b[39;00m \u001b[38;5;28;01mNone\u001b[39;00m:\n\u001b[1;32m   5199\u001b[0m     \u001b[38;5;66;03m# Check if we should send null update\u001b[39;00m\n",
      "File \u001b[0;32m/Library/Frameworks/Python.framework/Versions/3.11/lib/python3.11/site-packages/plotly/basedatatypes.py:5189\u001b[0m, in \u001b[0;36mBasePlotlyType._set_prop\u001b[0;34m(self, prop, val)\u001b[0m\n\u001b[1;32m   5186\u001b[0m validator \u001b[38;5;241m=\u001b[39m \u001b[38;5;28mself\u001b[39m\u001b[38;5;241m.\u001b[39m_get_validator(prop)\n\u001b[1;32m   5188\u001b[0m \u001b[38;5;28;01mtry\u001b[39;00m:\n\u001b[0;32m-> 5189\u001b[0m     val \u001b[38;5;241m=\u001b[39m \u001b[43mvalidator\u001b[49m\u001b[38;5;241;43m.\u001b[39;49m\u001b[43mvalidate_coerce\u001b[49m\u001b[43m(\u001b[49m\u001b[43mval\u001b[49m\u001b[43m)\u001b[49m\n\u001b[1;32m   5190\u001b[0m \u001b[38;5;28;01mexcept\u001b[39;00m \u001b[38;5;167;01mValueError\u001b[39;00m \u001b[38;5;28;01mas\u001b[39;00m err:\n\u001b[1;32m   5191\u001b[0m     \u001b[38;5;28;01mif\u001b[39;00m \u001b[38;5;28mself\u001b[39m\u001b[38;5;241m.\u001b[39m_skip_invalid:\n",
      "File \u001b[0;32m/Library/Frameworks/Python.framework/Versions/3.11/lib/python3.11/site-packages/_plotly_utils/basevalidators.py:2199\u001b[0m, in \u001b[0;36mInfoArrayValidator.validate_coerce\u001b[0;34m(self, v)\u001b[0m\n\u001b[1;32m   2196\u001b[0m     \u001b[38;5;28mself\u001b[39m\u001b[38;5;241m.\u001b[39mraise_invalid_val(orig_v)\n\u001b[1;32m   2197\u001b[0m \u001b[38;5;28;01melif\u001b[39;00m \u001b[38;5;28mself\u001b[39m\u001b[38;5;241m.\u001b[39mfree_length \u001b[38;5;129;01mand\u001b[39;00m \u001b[38;5;28mlen\u001b[39m(v) \u001b[38;5;241m>\u001b[39m \u001b[38;5;28mlen\u001b[39m(\u001b[38;5;28mself\u001b[39m\u001b[38;5;241m.\u001b[39mitem_validators):\n\u001b[1;32m   2198\u001b[0m     \u001b[38;5;66;03m# e.g. 4 element list as layout.updatemenu.button.args\u001b[39;00m\n\u001b[0;32m-> 2199\u001b[0m     \u001b[38;5;28;43mself\u001b[39;49m\u001b[38;5;241;43m.\u001b[39;49m\u001b[43mraise_invalid_val\u001b[49m\u001b[43m(\u001b[49m\u001b[43morig_v\u001b[49m\u001b[43m)\u001b[49m\n\u001b[1;32m   2200\u001b[0m \u001b[38;5;28;01melse\u001b[39;00m:\n\u001b[1;32m   2201\u001b[0m     \u001b[38;5;66;03m# We have a 1D array of the correct length\u001b[39;00m\n\u001b[1;32m   2202\u001b[0m     \u001b[38;5;28;01mfor\u001b[39;00m i, (el, validator) \u001b[38;5;129;01min\u001b[39;00m \u001b[38;5;28menumerate\u001b[39m(\u001b[38;5;28mzip\u001b[39m(v, \u001b[38;5;28mself\u001b[39m\u001b[38;5;241m.\u001b[39mitem_validators)):\n\u001b[1;32m   2203\u001b[0m         \u001b[38;5;66;03m# Validate coerce elements\u001b[39;00m\n",
      "File \u001b[0;32m/Library/Frameworks/Python.framework/Versions/3.11/lib/python3.11/site-packages/_plotly_utils/basevalidators.py:288\u001b[0m, in \u001b[0;36mBaseValidator.raise_invalid_val\u001b[0;34m(self, v, inds)\u001b[0m\n\u001b[1;32m    285\u001b[0m             \u001b[38;5;28;01mfor\u001b[39;00m i \u001b[38;5;129;01min\u001b[39;00m inds:\n\u001b[1;32m    286\u001b[0m                 name \u001b[38;5;241m+\u001b[39m\u001b[38;5;241m=\u001b[39m \u001b[38;5;124m\"\u001b[39m\u001b[38;5;124m[\u001b[39m\u001b[38;5;124m\"\u001b[39m \u001b[38;5;241m+\u001b[39m \u001b[38;5;28mstr\u001b[39m(i) \u001b[38;5;241m+\u001b[39m \u001b[38;5;124m\"\u001b[39m\u001b[38;5;124m]\u001b[39m\u001b[38;5;124m\"\u001b[39m\n\u001b[0;32m--> 288\u001b[0m         \u001b[38;5;28;01mraise\u001b[39;00m \u001b[38;5;167;01mValueError\u001b[39;00m(\n\u001b[1;32m    289\u001b[0m \u001b[38;5;250m            \u001b[39m\u001b[38;5;124;03m\"\"\"\u001b[39;00m\n\u001b[1;32m    290\u001b[0m \u001b[38;5;124;03m    Invalid value of type {typ} received for the '{name}' property of {pname}\u001b[39;00m\n\u001b[1;32m    291\u001b[0m \u001b[38;5;124;03m        Received value: {v}\u001b[39;00m\n\u001b[1;32m    292\u001b[0m \n\u001b[1;32m    293\u001b[0m \u001b[38;5;124;03m{valid_clr_desc}\"\"\"\u001b[39;00m\u001b[38;5;241m.\u001b[39mformat(\n\u001b[1;32m    294\u001b[0m                 name\u001b[38;5;241m=\u001b[39mname,\n\u001b[1;32m    295\u001b[0m                 pname\u001b[38;5;241m=\u001b[39m\u001b[38;5;28mself\u001b[39m\u001b[38;5;241m.\u001b[39mparent_name,\n\u001b[1;32m    296\u001b[0m                 typ\u001b[38;5;241m=\u001b[39mtype_str(v),\n\u001b[1;32m    297\u001b[0m                 v\u001b[38;5;241m=\u001b[39m\u001b[38;5;28mrepr\u001b[39m(v),\n\u001b[1;32m    298\u001b[0m                 valid_clr_desc\u001b[38;5;241m=\u001b[39m\u001b[38;5;28mself\u001b[39m\u001b[38;5;241m.\u001b[39mdescription(),\n\u001b[1;32m    299\u001b[0m             )\n\u001b[1;32m    300\u001b[0m         )\n",
      "\u001b[0;31mValueError\u001b[0m: \n    Invalid value of type 'builtins.list' received for the 'args' property of layout.updatemenu.button\n        Received value: [{'visible': False}, {'visible': False}, {'visible': False}, {'visible': False}, {'visible': False}, {'visible': False}, {'visible': False}, {'visible': False}, {'visible': False}, {'visible': False}, {'visible': False}, {'visible': False}, {'visible': False}, {'visible': False}, {'visible': False}, {'visible': False}, {'visible': False}, {'visible': False}, {'visible': False}, {'visible': False}, {'visible': False}, {'visible': False}, {'visible': False}, {'visible': False}, {'visible': False}, {'visible': False}, {'visible': False}, {'visible': False}, {'visible': False}, {'visible': False}, {'visible': False}, {'visible': False}, {'visible': False}, {'visible': False}, {'visible': False}, {'visible': False}, {'visible': False}, {'visible': False}, {'visible': False}, {'visible': False}, {'visible': False}, {'visible': False}, {'visible': False}, {'visible': False}, {'visible': False}, {'visible': False}, {'visible': False}, {'visible': False}, {'visible': False}, {'visible': False}, {'visible': False}, {'visible': False}, {'visible': False}, {'visible': False}, {'visible': False}, {'visible': False}, {'visible': False}, {'visible': False}, {'visible': False}, {'visible': False}, {'visible': False}, {'visible': False}, {'visible': False}, {'visible': False}, {'visible': False}, {'visible': False}, {'visible': False}, {'visible': False}, {'visible': False}, {'visible': False}, {'visible': False}, {'visible': False}, {'visible': False}, {'visible': False}, {'visible': False}, {'visible': False}, {'visible': False}, {'visible': False}, {'visible': False}, {'visible': False}, {'visible': False}, {'visible': False}, {'visible': False}, {'visible': False}, {'visible': False}, {'visible': False}, {'visible': False}, {'visible': False}, {'visible': False}, {'visible': False}, {'visible': False}, {'visible': False}, {'visible': False}, {'visible': False}, {'visible': False}, {'visible': False}, {'visible': False}, {'visible': False}, {'visible': False}, {'visible': False}, {'visible': False}, {'visible': False}, {'visible': False}, {'visible': False}, {'visible': False}, {'visible': False}, {'visible': False}, {'visible': False}, {'visible': False}, {'visible': False}, {'visible': False}, {'visible': False}, {'visible': False}, {'visible': False}, {'visible': False}, {'visible': False}, {'visible': False}, {'visible': False}, {'visible': False}, {'visible': False}, {'visible': False}, {'visible': False}, {'visible': False}, {'visible': False}, {'visible': False}, {'visible': False}, {'visible': False}, {'visible': False}, {'visible': False}, {'visible': False}, {'visible': False}, {'visible': False}, {'visible': False}, {'visible': False}, {'visible': False}, {'visible': False}, {'visible': False}, {'visible': False}, {'visible': False}, {'visible': False}, {'visible': False}, {'visible': False}, {'visible': False}, {'visible': False}, {'visible': False}, {'visible': False}, {'visible': False}, {'visible': False}, {'visible': False}, {'visible': False}, {'visible': False}, {'visible': False}, {'visible': False}, {'visible': False}, {'visible': False}, {'visible': False}, {'visible': False}, {'visible': False}, {'visible': False}, {'visible': False}, {'visible': False}, {'visible': False}, {'visible': False}, {'visible': False}, {'visible': False}, {'visible': False}, {'visible': False}, {'visible': False}, {'visible': False}, {'visible': False}, {'visible': False}, {'visible': False}, {'visible': False}, {'visible': False}, {'visible': False}, {'visible': False}, {'visible': False}, {'visible': False}, {'visible': False}, {'visible': False}, {'visible': False}, {'visible': False}, {'visible': False}, {'visible': False}, {'visible': False}, {'visible': False}, {'visible': False}, {'visible': False}, {'visible': False}, {'visible': False}, {'visible': False}, {'visible': False}, {'visible': False}, {'visible': False}, {'visible': False}, {'visible': False}, {'visible': False}, {'visible': False}, {'visible': False}, {'visible': False}, {'visible': False}, {'visible': False}, {'visible': False}, {'visible': False}, {'visible': False}, {'visible': False}, {'visible': False}, {'visible': False}, {'visible': False}, {'visible': False}, {'visible': False}, {'visible': False}, {'visible': False}, {'visible': False}, {'visible': False}, {'visible': False}, {'visible': False}, {'visible': False}, {'visible': False}, {'visible': False}, {'visible': False}, {'visible': False}, {'visible': False}, {'visible': False}, {'visible': False}, {'visible': False}, {'visible': False}, {'visible': False}, {'visible': False}, {'visible': False}, {'visible': False}, {'visible': False}, {'visible': False}, {'visible': False}, {'visible': False}, {'visible': False}, {'visible': False}, {'visible': False}, {'visible': False}, {'visible': False}, {'visible': False}, {'visible': False}, {'visible': False}, {'visible': False}, {'visible': False}, {'visible': False}, {'visible': False}, {'visible': False}, {'visible': False}, {'visible': False}, {'visible': False}, {'visible': False}, {'visible': False}, {'visible': False}, {'visible': False}, {'visible': False}, {'visible': False}, {'visible': False}, {'visible': False}, {'visible': False}, {'visible': False}, {'visible': False}, {'visible': False}, {'visible': False}, {'visible': False}, {'visible': False}, {'visible': False}, {'visible': False}, {'visible': False}, {'visible': False}, {'visible': False}, {'visible': False}, {'visible': False}, {'visible': False}, {'visible': False}, {'visible': False}, {'visible': False}, {'visible': False}, {'visible': False}, {'visible': False}, {'visible': False}, {'visible': False}, {'visible': False}, {'visible': False}, {'visible': False}, {'visible': False}, {'visible': False}, {'visible': False}, {'visible': False}, {'visible': False}, {'visible': False}, {'visible': False}, {'visible': False}, {'visible': False}, {'visible': False}, {'visible': False}, {'visible': False}, {'visible': False}, {'visible': False}, {'visible': False}, {'visible': False}, {'visible': False}, {'visible': False}, {'visible': False}, {'visible': False}, {'visible': False}, {'visible': False}, {'visible': False}, {'visible': False}, {'visible': False}, {'visible': False}, {'visible': False}, {'visible': False}, {'visible': False}, {'visible': False}, {'visible': False}, {'visible': False}, {'visible': False}, {'visible': False}, {'visible': False}, {'visible': False}, {'visible': False}, {'visible': False}, {'visible': False}, {'visible': False}, {'visible': False}, {'visible': False}, {'visible': False}, {'visible': False}, {'visible': False}, {'visible': False}, {'visible': False}, {'visible': False}, {'visible': False}, {'visible': False}, {'visible': False}, {'visible': False}, {'visible': False}, {'visible': False}, {'visible': False}, {'visible': False}, {'visible': False}, {'visible': False}, {'visible': False}, {'visible': False}, {'visible': False}, {'visible': False}, {'visible': False}, {'visible': False}, {'visible': False}, {'visible': False}, {'visible': False}, {'visible': False}, {'visible': False}, {'visible': False}, {'visible': False}, {'visible': False}, {'visible': False}, {'visible': False}, {'visible': False}, {'visible': False}, {'visible': False}, {'visible': False}, {'visible': False}, {'visible': False}, {'visible': False}, {'visible': False}, {'visible': False}, {'visible': False}, {'visible': False}, {'visible': False}, {'visible': False}, {'visible': False}, {'visible': False}, {'visible': False}, {'visible': False}, {'visible': False}, {'visible': False}, {'visible': False}, {'visible': False}, {'visible': False}, {'visible': False}, {'visible': False}, {'visible': False}, {'visible': False}, {'visible': False}, {'visible': False}, {'visible': False}, {'visible': False}, {'visible': False}, {'visible': False}, {'visible': False}, {'visible': False}, {'visible': False}, {'visible': False}, {'visible': False}, {'visible': False}, {'visible': False}, {'visible': False}, {'visible': False}, {'visible': False}, {'visible': False}, {'visible': False}, {'visible': False}, {'visible': False}, {'visible': False}, {'visible': False}, {'visible': False}, {'visible': False}, {'visible': False}, {'visible': False}, {'visible': False}, {'visible': False}, {'visible': False}, {'visible': False}, {'visible': False}, {'visible': False}, {'visible': False}, {'visible': False}, {'visible': False}, {'visible': False}, {'visible': False}, {'visible': False}, {'visible': False}, {'visible': False}, {'visible': False}, {'visible': False}, {'visible': False}, {'visible': False}, {'visible': False}, {'visible': False}, {'visible': False}, {'visible': False}, {'visible': False}, {'visible': False}, {'visible': False}, {'visible': False}, {'visible': False}, {'visible': False}, {'visible': False}, {'visible': False}, {'visible': False}, {'visible': False}, {'visible': False}, {'visible': False}, {'visible': False}, {'visible': False}, {'visible': False}, {'visible': False}, {'visible': False}, {'visible': False}, {'visible': False}, {'visible': False}, {'visible': False}, {'visible': False}, {'visible': False}, {'visible': False}, {'visible': False}, {'visible': False}, {'visible': False}, {'visible': False}, {'visible': False}, {'visible': False}, {'visible': False}, {'visible': False}, {'visible': False}, {'visible': False}, {'visible': False}, {'visible': False}, {'visible': False}, {'visible': False}, {'visible': False}, {'visible': False}, {'visible': False}, {'visible': False}, {'visible': False}, {'visible': False}, {'visible': False}, {'visible': False}, {'visible': False}, {'visible': False}, {'visible': False}, {'visible': False}, {'visible': False}, {'visible': False}, {'visible': False}, {'visible': False}, {'visible': False}, {'visible': False}, {'visible': False}, {'visible': False}, {'visible': False}, {'visible': False}, {'visible': False}, {'visible': False}, {'visible': False}, {'visible': False}, {'visible': False}, {'visible': False}, {'visible': False}, {'visible': False}, {'visible': False}, {'visible': False}, {'visible': False}, {'visible': False}, {'visible': False}, {'visible': False}, {'visible': False}, {'visible': False}, {'visible': False}, {'visible': False}, {'visible': False}, {'visible': False}, {'visible': False}, {'visible': False}, {'visible': False}, {'visible': False}, {'visible': False}, {'visible': False}, {'visible': False}, {'visible': False}, {'visible': False}, {'visible': False}, {'visible': False}, {'visible': False}, {'visible': False}, {'visible': False}, {'visible': False}, {'visible': False}, {'visible': False}, {'visible': False}, {'visible': False}, {'visible': False}, {'visible': False}, {'visible': False}, {'visible': False}, {'visible': False}, {'visible': False}, {'visible': False}, {'visible': False}, {'visible': False}, {'visible': False}, {'visible': False}, {'visible': False}, {'visible': False}, {'visible': False}, {'visible': False}, {'visible': False}, {'visible': False}, {'visible': False}, {'visible': False}, {'visible': False}, {'visible': False}, {'visible': False}, {'visible': False}, {'visible': False}, {'visible': False}, {'visible': False}, {'visible': False}, {'visible': False}, {'visible': False}, {'visible': False}, {'visible': False}, {'visible': False}, {'visible': False}, {'visible': False}, {'visible': False}, {'visible': False}, {'visible': False}, {'visible': False}, {'visible': False}, {'visible': False}, {'visible': False}, {'visible': False}, {'visible': False}, {'visible': False}, {'visible': False}, {'visible': False}, {'visible': False}, {'visible': False}, {'visible': False}, {'visible': False}, {'visible': False}, {'visible': False}, {'visible': False}, {'visible': False}, {'visible': False}, {'visible': False}, {'visible': False}, {'visible': False}, {'visible': False}, {'visible': False}, {'visible': False}, {'visible': False}, {'visible': False}, {'visible': False}, {'visible': False}, {'visible': False}, {'visible': False}, {'visible': False}, {'visible': False}, {'visible': False}, {'visible': False}, {'visible': False}, {'visible': False}, {'visible': False}, {'visible': False}, {'visible': False}, {'visible': False}, {'visible': False}, {'visible': False}, {'visible': False}, {'visible': False}, {'visible': False}, {'visible': False}, {'visible': False}, {'visible': False}, {'visible': False}, {'visible': False}, {'visible': False}, {'visible': False}, {'visible': False}, {'visible': False}, {'visible': False}, {'visible': False}, {'visible': False}, {'visible': False}, {'visible': False}, {'visible': False}, {'visible': False}, {'visible': False}, {'visible': False}, {'visible': False}, {'visible': False}, {'visible': False}, {'visible': False}, {'visible': False}, {'visible': False}, {'visible': False}, {'visible': False}, {'visible': False}, {'visible': False}, {'visible': False}, {'visible': False}, {'visible': False}, {'visible': False}, {'visible': False}, {'visible': False}, {'visible': False}, {'visible': False}, {'visible': False}, {'visible': False}, {'visible': False}, {'visible': False}, {'visible': False}, {'visible': False}, {'visible': False}, {'visible': False}, {'visible': False}, {'visible': False}, {'visible': False}, {'visible': False}, {'visible': False}, {'visible': False}, {'visible': False}, {'visible': False}, {'visible': False}, {'visible': False}, {'visible': False}, {'visible': False}, {'visible': False}, {'visible': False}, {'visible': False}, {'visible': False}, {'visible': False}, {'visible': False}, {'visible': False}, {'visible': False}, {'visible': False}, {'visible': False}, {'visible': False}, {'visible': False}, {'visible': False}, {'visible': False}, {'visible': False}, {'visible': False}, {'visible': False}, {'visible': False}, {'visible': False}, {'visible': False}, {'visible': False}, {'visible': False}, {'visible': False}, {'visible': False}, {'visible': False}, {'visible': False}, {'visible': False}, {'visible': False}, {'visible': False}, {'visible': False}, {'visible': False}, {'visible': False}, {'visible': False}, {'visible': False}, {'visible': False}, {'visible': False}, {'visible': False}, {'visible': False}, {'visible': False}, {'visible': False}, {'visible': False}, {'visible': False}, {'visible': False}, {'visible': False}, {'visible': False}, {'visible': False}, {'visible': False}, {'visible': False}, {'visible': False}, {'visible': False}, {'visible': False}, {'visible': False}, {'visible': False}, {'visible': False}, {'visible': False}, {'visible': False}, {'visible': False}, {'visible': False}, {'visible': False}, {'visible': False}, {'visible': False}, {'visible': False}, {'visible': False}, {'visible': False}, {'visible': False}, {'visible': False}, {'visible': False}, {'visible': False}, {'visible': False}, {'visible': False}, {'visible': False}, {'visible': False}, {'visible': False}, {'visible': False}, {'visible': False}, {'visible': False}, {'visible': False}, {'visible': False}, {'visible': False}, {'visible': False}, {'visible': False}, {'visible': False}, {'visible': False}, {'visible': False}, {'visible': False}, {'visible': False}, {'visible': False}, {'visible': False}, {'visible': False}, {'visible': False}, {'visible': False}, {'visible': False}, {'visible': False}, {'visible': False}, {'visible': False}, {'visible': False}, {'visible': False}, {'visible': False}, {'visible': False}, {'visible': False}, {'visible': False}, {'visible': False}, {'visible': False}, {'visible': False}, {'visible': False}, {'visible': False}, {'visible': False}, {'visible': False}, {'visible': False}, {'visible': False}, {'visible': False}, {'visible': False}, {'visible': False}, {'visible': False}, {'visible': False}, {'visible': False}, {'visible': False}, {'visible': False}, {'visible': False}, {'visible': False}, {'visible': False}, {'visible': False}, {'visible': False}, {'visible': False}, {'visible': False}, {'visible': False}, {'visible': False}, {'visible': False}, {'visible': False}, {'visible': False}, {'visible': False}, {'visible': False}, {'visible': False}, {'visible': False}, {'visible': False}, {'visible': False}, {'visible': False}, {'visible': False}, {'visible': False}, {'visible': False}, {'visible': False}, {'visible': False}, {'visible': False}, {'visible': False}, {'visible': False}, {'visible': False}, {'visible': False}, {'visible': False}, {'visible': False}, {'visible': False}, {'visible': False}, {'visible': False}, {'visible': False}, {'visible': False}, {'visible': False}, {'visible': False}, {'visible': False}, {'visible': False}, {'visible': False}, {'visible': False}, {'visible': False}, {'visible': False}, {'visible': False}, {'visible': False}, {'visible': False}, {'visible': False}, {'visible': False}, {'visible': False}, {'visible': False}, {'visible': False}, {'visible': False}, {'visible': False}, {'visible': False}, {'visible': False}, {'visible': False}, {'visible': False}, {'visible': False}, {'visible': False}, {'visible': False}, {'visible': False}, {'visible': False}, {'visible': False}, {'visible': False}, {'visible': False}, {'visible': False}, {'visible': False}, {'visible': False}, {'visible': False}, {'visible': False}, {'visible': False}, {'visible': False}, {'visible': False}, {'visible': False}, {'visible': False}, {'visible': False}, {'visible': False}, {'visible': False}, {'visible': False}, {'visible': False}, {'visible': False}, {'visible': False}, {'visible': False}, {'visible': False}, {'visible': False}, {'visible': False}, {'visible': False}, {'visible': False}, {'visible': False}, {'visible': False}, {'visible': False}, {'visible': False}, {'visible': False}, {'visible': False}, {'visible': False}, {'visible': False}, {'visible': False}, {'visible': False}, {'visible': False}, {'visible': False}, {'visible': False}, {'visible': False}, {'visible': False}, {'visible': False}, {'visible': False}, {'visible': False}, {'visible': False}, {'visible': False}, {'visible': False}, {'visible': False}, {'visible': False}, {'visible': False}, {'visible': False}, {'visible': False}, {'visible': False}, {'visible': False}, {'visible': False}, {'visible': False}, {'visible': False}, {'visible': False}, {'visible': False}, {'visible': False}, {'visible': False}, {'visible': False}, {'visible': False}, {'visible': False}, {'visible': False}, {'visible': False}, {'visible': False}, {'visible': False}, {'visible': False}, {'visible': False}, {'visible': False}, {'visible': False}, {'visible': False}, {'visible': False}, {'visible': False}, {'visible': False}, {'visible': False}, {'visible': False}, {'visible': False}, {'visible': False}, {'visible': False}, {'visible': False}, {'visible': False}, {'visible': False}, {'visible': False}, {'visible': False}, {'visible': False}, {'visible': False}, {'visible': False}, {'visible': False}, {'visible': False}, {'visible': False}, {'visible': False}, {'visible': False}, {'visible': False}, {'visible': False}, {'visible': False}, {'visible': False}, {'visible': False}, {'visible': False}, {'visible': False}, {'visible': False}, {'visible': False}, {'visible': False}, {'visible': False}, {'visible': False}, {'visible': False}, {'visible': False}, {'visible': False}, {'visible': False}, {'visible': False}, {'visible': False}, {'visible': False}, {'visible': False}, {'visible': False}, {'visible': False}, {'visible': False}, {'visible': False}, {'visible': False}, {'visible': False}, {'visible': False}, {'visible': False}, {'visible': False}, {'visible': False}, {'visible': False}, {'visible': False}, {'visible': False}, {'visible': False}, {'visible': False}, {'visible': False}, {'visible': False}, {'visible': False}, {'visible': False}, {'visible': False}, {'visible': False}, {'visible': False}, {'visible': False}, {'visible': False}, {'visible': False}, {'visible': False}, {'visible': False}, {'visible': False}, {'visible': False}, {'visible': False}, {'visible': False}, {'visible': False}, {'visible': False}, {'visible': False}, {'visible': False}, {'visible': False}, {'visible': False}, {'visible': False}, {'visible': False}, {'visible': False}, {'visible': False}, {'visible': False}, {'visible': False}, {'visible': False}, {'visible': False}, {'visible': False}, {'visible': False}, {'visible': False}, {'visible': False}, {'visible': False}, {'visible': False}, {'visible': False}, {'visible': False}, {'visible': False}, {'visible': False}, {'visible': False}, {'visible': False}, {'visible': False}, {'visible': False}, {'visible': False}, {'visible': False}, {'visible': False}, {'visible': False}, {'visible': False}, {'visible': False}, {'visible': False}, {'visible': False}, {'visible': False}, {'visible': False}, {'visible': False}, {'visible': False}, {'visible': False}, {'visible': False}, {'visible': False}, {'visible': False}, {'visible': False}, {'visible': False}, {'visible': False}, {'visible': False}, {'visible': False}, {'visible': False}, {'visible': False}, {'visible': False}, {'visible': False}, {'visible': False}, {'visible': False}, {'visible': False}, {'visible': False}, {'visible': False}, {'visible': False}, {'visible': False}, {'visible': False}, {'visible': False}, {'visible': False}, {'visible': False}, {'visible': False}, {'visible': False}, {'visible': False}, {'visible': False}, {'visible': False}, {'visible': False}, {'visible': False}, {'visible': False}, {'visible': False}, {'visible': False}, {'visible': False}, {'visible': False}, {'visible': False}, {'visible': False}, {'visible': False}, {'visible': False}, {'visible': False}, {'visible': False}, {'visible': False}, {'visible': False}, {'visible': False}, {'visible': False}, {'visible': False}, {'visible': False}, {'visible': False}, {'visible': False}, {'visible': False}, {'visible': False}, {'visible': False}, {'visible': False}, {'visible': False}, {'visible': False}, {'visible': False}, {'visible': False}, {'visible': False}, {'visible': False}, {'visible': False}, {'visible': False}, {'visible': False}, {'visible': False}, {'visible': False}, {'visible': False}, {'visible': False}, {'visible': False}, {'visible': False}, {'visible': False}, {'visible': False}, {'visible': False}, {'visible': False}, {'visible': False}, {'visible': False}, {'visible': False}, {'visible': False}, {'visible': False}, {'visible': False}, {'visible': False}, {'visible': False}, {'visible': False}, {'visible': False}, {'visible': False}, {'visible': False}, {'visible': False}, {'visible': False}, {'visible': False}, {'visible': False}, {'visible': False}, {'visible': False}, {'visible': False}, {'visible': False}, {'visible': False}, {'visible': False}, {'visible': False}, {'visible': False}, {'visible': False}, {'visible': False}, {'visible': False}, {'visible': False}, {'visible': False}, {'visible': False}, {'visible': False}, {'visible': False}, {'visible': False}, {'visible': False}, {'visible': False}, {'visible': False}, {'visible': False}, {'visible': False}, {'visible': False}, {'visible': False}, {'visible': False}, {'visible': False}, {'visible': False}, {'visible': False}, {'visible': False}, {'visible': False}, {'visible': False}, {'visible': False}, {'visible': False}, {'visible': False}, {'visible': False}, {'visible': False}, {'visible': False}, {'visible': False}, {'visible': False}, {'visible': False}, {'visible': False}, {'visible': False}, {'visible': False}, {'visible': False}, {'visible': False}, {'visible': False}, {'visible': False}, {'visible': False}, {'visible': False}, {'visible': False}, {'visible': False}, {'visible': False}, {'visible': False}, {'visible': False}, {'visible': False}, {'visible': False}, {'visible': False}, {'visible': False}, {'visible': False}, {'visible': False}, {'visible': False}, {'visible': False}, {'visible': False}, {'visible': False}, {'visible': False}, {'visible': False}, {'visible': False}, {'visible': False}, {'visible': False}, {'visible': False}, {'visible': False}, {'visible': False}, {'visible': False}, {'visible': False}, {'visible': False}, {'visible': False}, {'visible': False}, {'visible': False}, {'visible': False}, {'visible': False}, {'visible': False}, {'visible': False}, {'visible': False}, {'visible': False}, {'visible': False}, {'visible': False}, {'visible': False}, {'visible': False}, {'visible': False}, {'visible': False}, {'visible': False}, {'visible': False}, {'visible': False}, {'visible': False}, {'visible': False}, {'visible': False}, {'visible': False}, {'visible': False}, {'visible': False}, {'visible': False}, {'visible': False}, {'visible': False}, {'visible': False}, {'visible': False}, {'visible': False}, {'visible': False}, {'visible': False}, {'visible': False}, {'visible': False}, {'visible': False}, {'visible': False}, {'visible': False}, {'visible': False}, {'visible': False}, {'visible': False}, {'visible': False}, {'visible': False}, {'visible': False}, {'visible': False}, {'visible': False}, {'visible': False}, {'visible': False}, {'visible': False}, {'visible': False}, {'visible': False}, {'visible': False}, {'visible': False}, {'visible': False}, {'visible': False}, {'visible': False}, {'visible': False}, {'visible': False}, {'visible': False}, {'visible': False}, {'visible': False}, {'visible': False}, {'visible': False}, {'visible': False}, {'visible': False}, {'visible': False}, {'visible': False}, {'visible': False}, {'visible': False}, {'visible': False}, {'visible': False}, {'visible': False}, {'visible': False}, {'visible': False}, {'visible': False}, {'visible': False}, {'visible': False}, {'visible': False}, {'visible': False}, {'visible': False}, {'visible': False}, {'visible': False}, {'visible': False}, {'visible': False}, {'visible': False}, {'visible': False}, {'visible': False}, {'visible': False}, {'visible': False}, {'visible': False}, {'visible': False}, {'visible': False}, {'visible': False}, {'visible': False}, {'visible': False}, {'visible': False}, {'visible': False}, {'visible': False}, {'visible': False}, {'visible': False}, {'visible': False}, {'visible': False}, {'visible': False}, {'visible': False}, {'visible': False}, {'visible': False}, {'visible': False}, {'visible': False}, {'visible': False}, {'visible': False}, {'visible': False}, {'visible': False}, {'visible': False}, {'visible': False}, {'visible': False}, {'visible': False}, {'visible': False}, {'visible': False}, {'visible': False}, {'visible': False}, {'visible': False}, {'visible': False}, {'visible': False}, {'visible': False}, {'visible': False}, {'visible': False}, {'visible': False}, {'visible': False}, {'visible': False}, {'visible': False}, {'visible': False}, {'visible': False}, {'visible': False}, {'visible': False}, {'visible': False}, {'visible': False}, {'visible': False}, {'visible': False}, {'visible': False}, {'visible': False}, {'visible': False}, {'visible': False}, {'visible': False}, {'visible': False}, {'visible': False}, {'visible': False}, {'visible': False}, {'visible': False}, {'visible': False}, {'visible': False}, {'visible': False}, {'visible': False}, {'visible': False}, {'visible': False}, {'visible': False}, {'visible': False}, {'visible': False}, {'visible': False}, {'visible': False}, {'visible': False}, {'visible': False}, {'visible': False}, {'visible': False}, {'visible': False}, {'visible': False}, {'visible': False}, {'visible': False}, {'visible': False}, {'visible': False}, {'visible': False}, {'visible': False}, {'visible': False}, {'visible': False}, {'visible': False}, {'visible': False}, {'visible': False}, {'visible': False}, {'visible': False}, {'visible': False}, {'visible': False}, {'visible': False}, {'visible': False}, {'visible': False}, {'visible': False}, {'visible': False}, {'visible': False}, {'visible': False}, {'visible': False}, {'visible': False}, {'visible': False}, {'visible': False}, {'visible': False}, {'visible': False}, {'visible': False}, {'visible': False}, {'visible': False}, {'visible': False}, {'visible': False}, {'visible': False}, {'visible': False}, {'visible': False}, {'visible': False}, {'visible': False}, {'visible': False}, {'visible': False}, {'visible': False}, {'visible': False}, {'visible': False}, {'visible': False}, {'visible': False}, {'visible': False}, {'visible': False}, {'visible': False}, {'visible': False}, {'visible': False}, {'visible': False}, {'visible': False}, {'visible': False}, {'visible': False}, {'visible': False}, {'visible': False}, {'visible': False}, {'visible': False}, {'visible': False}, {'visible': False}, {'visible': False}, {'visible': False}, {'visible': False}, {'visible': False}, {'visible': False}, {'visible': False}, {'visible': False}, {'visible': False}, {'visible': False}, {'visible': False}, {'visible': False}, {'visible': False}, {'visible': False}, {'visible': False}, {'visible': False}, {'visible': False}, {'visible': False}, {'visible': False}, {'visible': False}, {'visible': False}, {'visible': False}, {'visible': False}, {'visible': False}, {'visible': False}, {'visible': False}, {'visible': False}, {'visible': False}, {'visible': False}, {'visible': False}, {'visible': False}, {'visible': False}, {'visible': False}, {'visible': False}, {'visible': False}, {'visible': False}, {'visible': False}, {'visible': False}, {'visible': False}, {'visible': False}, {'visible': False}, {'visible': False}, {'visible': False}, {'visible': False}, {'visible': False}, {'visible': False}, {'visible': False}, {'visible': False}, {'visible': False}, {'visible': False}, {'visible': False}, {'visible': False}, {'visible': False}, {'visible': False}, {'visible': False}, {'visible': False}, {'visible': False}, {'visible': False}, {'visible': False}, {'visible': False}, {'visible': False}, {'visible': False}, {'visible': False}, {'visible': False}, {'visible': False}, {'visible': False}, {'visible': False}, {'visible': False}, {'visible': False}, {'visible': False}, {'visible': False}, {'visible': False}, {'visible': False}, {'visible': False}, {'visible': False}, {'visible': False}, {'visible': False}, {'visible': False}, {'visible': False}, {'visible': False}, {'visible': False}, {'visible': False}, {'visible': False}, {'visible': False}, {'visible': False}, {'visible': False}, {'visible': False}, {'visible': False}, {'visible': False}, {'visible': False}, {'visible': False}, {'visible': False}, {'visible': False}, {'visible': False}, {'visible': False}, {'visible': False}, {'visible': False}, {'visible': False}, {'visible': False}, {'visible': False}, {'visible': False}, {'visible': False}, {'visible': False}, {'visible': False}, {'visible': False}, {'visible': False}, {'visible': False}, {'visible': False}, {'visible': False}, {'visible': False}, {'visible': False}, {'visible': False}, {'visible': False}, {'visible': False}, {'visible': False}, {'visible': False}, {'visible': False}, {'visible': False}, {'visible': False}, {'visible': False}, {'visible': False}, {'visible': False}, {'visible': False}, {'visible': False}, {'visible': False}, {'visible': False}, {'visible': False}, {'visible': False}, {'visible': False}, {'visible': False}, {'visible': False}, {'visible': False}, {'visible': False}, {'visible': False}, {'visible': False}, {'visible': False}, {'visible': False}, {'visible': False}, {'visible': False}, {'visible': False}, {'visible': False}, {'visible': False}, {'visible': False}, {'visible': False}, {'visible': False}, {'visible': False}, {'visible': False}, {'visible': False}, {'visible': False}, {'visible': False}, {'visible': False}, {'visible': False}, {'visible': False}, {'visible': False}, {'visible': False}, {'visible': False}, {'visible': False}, {'visible': False}, {'visible': False}, {'visible': False}, {'visible': False}, {'visible': False}, {'visible': False}, {'visible': False}, {'visible': False}, {'visible': False}, {'visible': False}, {'visible': False}, {'visible': False}, {'visible': False}, {'visible': False}, {'visible': False}, {'visible': False}, {'visible': False}, {'visible': False}, {'visible': False}, {'visible': False}, {'visible': False}, {'visible': False}, {'visible': False}, {'visible': False}, {'visible': False}, {'visible': False}, {'visible': False}, {'visible': False}, {'visible': False}, {'visible': False}, {'visible': False}, {'visible': False}, {'visible': False}, {'visible': False}, {'visible': False}, {'visible': False}, {'visible': False}, {'visible': False}, {'visible': False}, {'visible': False}, {'visible': False}, {'visible': False}, {'visible': False}, {'visible': False}, {'visible': False}, {'visible': False}, {'visible': False}, {'visible': False}, {'visible': False}, {'visible': False}, {'visible': False}, {'visible': False}, {'visible': False}, {'visible': False}, {'visible': False}, {'visible': False}, {'visible': False}, {'visible': False}, {'visible': False}, {'visible': False}, {'visible': False}, {'visible': False}, {'visible': False}, {'visible': False}, {'visible': False}, {'visible': False}, {'visible': False}, {'visible': False}, {'visible': False}, {'visible': False}, {'visible': False}, {'visible': False}, {'visible': False}, {'visible': False}, {'visible': False}, {'visible': False}, {'visible': False}, {'visible': False}, {'visible': False}, {'visible': False}, {'visible': False}, {'visible': False}, {'visible': False}, {'visible': False}, {'visible': False}, {'visible': False}, {'visible': False}, {'visible': False}, {'visible': False}, {'visible': False}, {'visible': False}, {'visible': False}, {'visible': False}, {'visible': False}, {'visible': False}, {'visible': False}, {'visible': False}, {'visible': False}, {'visible': False}, {'visible': False}, {'visible': False}, {'visible': False}, {'visible': False}, {'visible': False}, {'visible': False}, {'visible': False}, {'visible': False}, {'visible': False}, {'visible': False}, {'visible': False}, {'visible': False}, {'visible': False}, {'visible': False}, {'visible': False}, {'visible': False}, {'visible': False}, {'visible': False}, {'visible': False}, {'visible': False}, {'visible': False}, {'visible': False}, {'visible': False}, {'visible': False}, {'visible': False}, {'visible': False}, {'visible': False}, {'visible': False}, {'visible': False}, {'visible': False}, {'visible': False}, {'visible': False}, {'visible': False}, {'visible': False}, {'visible': False}, {'visible': False}, {'visible': False}, {'visible': False}, {'visible': False}, {'visible': False}, {'visible': False}, {'visible': False}, {'visible': False}, {'visible': False}, {'visible': False}, {'visible': False}, {'visible': False}, {'visible': False}, {'visible': False}, {'visible': False}, {'visible': False}, {'visible': False}, {'visible': False}, {'visible': False}, {'visible': False}, {'visible': False}, {'visible': False}, {'visible': False}, {'visible': False}, {'visible': False}, {'visible': False}, {'visible': False}, {'visible': False}, {'visible': False}, {'visible': False}, {'visible': False}, {'visible': False}, {'visible': False}, {'visible': False}, {'visible': False}, {'visible': False}, {'visible': False}, {'visible': False}, {'visible': False}, {'visible': False}, {'visible': False}, {'visible': False}, {'visible': False}, {'visible': False}, {'visible': False}, {'visible': False}, {'visible': False}, {'visible': False}, {'visible': False}, {'visible': False}, {'visible': False}, {'visible': False}, {'visible': False}, {'visible': False}, {'visible': False}, {'visible': False}, {'visible': False}, {'visible': False}, {'visible': False}, {'visible': False}, {'visible': False}, {'visible': False}, {'visible': False}, {'visible': False}, {'visible': False}, {'visible': False}, {'visible': False}, {'visible': False}, {'visible': False}, {'visible': False}, {'visible': False}, {'visible': False}, {'visible': False}, {'visible': False}, {'visible': False}, {'visible': False}, {'visible': False}, {'visible': False}, {'visible': False}, {'visible': False}, {'visible': False}, {'visible': False}, {'visible': False}, {'visible': False}, {'visible': False}, {'visible': False}, {'visible': False}, {'visible': False}, {'visible': False}, {'visible': False}, {'visible': False}, {'visible': False}, {'visible': False}, {'visible': False}, {'visible': False}, {'visible': False}, {'visible': False}, {'visible': False}, {'visible': False}, {'visible': False}, {'visible': False}, {'visible': False}, {'visible': False}, {'visible': False}, {'visible': False}, {'visible': False}, {'visible': False}, {'visible': False}, {'visible': False}, {'visible': False}, {'visible': False}, {'visible': False}, {'visible': False}, {'visible': False}, {'visible': False}, {'visible': False}, {'visible': False}, {'visible': False}, {'visible': False}, {'visible': False}, {'visible': False}, {'visible': False}, {'visible': False}, {'visible': False}, {'visible': False}, {'visible': False}, {'visible': False}, {'visible': False}, {'visible': False}, {'visible': False}, {'visible': False}, {'visible': False}, {'visible': False}, {'visible': False}, {'visible': False}, {'visible': False}, {'visible': False}, {'visible': False}, {'visible': False}, {'visible': False}, {'visible': False}, {'visible': False}, {'visible': False}, {'visible': False}, {'visible': False}, {'visible': False}, {'visible': False}, {'visible': False}, {'visible': False}, {'visible': False}, {'visible': False}, {'visible': False}, {'visible': False}, {'visible': False}, {'visible': False}, {'visible': False}, {'visible': False}, {'visible': False}, {'visible': False}, {'visible': False}, {'visible': False}, {'visible': False}, {'visible': False}, {'visible': False}, {'visible': False}, {'visible': False}, {'visible': False}, {'visible': False}, {'visible': False}, {'visible': False}, {'visible': False}, {'visible': False}, {'visible': False}, {'visible': False}, {'visible': False}, {'visible': False}, {'visible': False}, {'visible': False}, {'visible': False}, {'visible': False}, {'visible': False}, {'visible': False}, {'visible': False}, {'visible': False}, {'visible': False}, {'visible': False}, {'visible': False}, {'visible': False}, {'visible': False}, {'visible': False}, {'visible': False}, {'visible': False}, {'visible': False}, {'visible': False}, {'visible': False}, {'visible': False}, {'visible': False}, {'visible': False}, {'visible': False}, {'visible': False}, {'visible': False}, {'visible': False}, {'visible': False}, {'visible': False}, {'visible': False}, {'visible': False}, {'visible': False}, {'visible': False}, {'visible': False}, {'visible': False}, {'visible': False}, {'visible': False}, {'visible': False}, {'visible': False}, {'visible': False}, {'visible': False}, {'visible': False}, {'visible': False}, {'visible': False}, {'visible': False}, {'visible': False}, {'visible': False}, {'visible': False}, {'visible': False}, {'visible': False}, {'visible': False}, {'visible': False}, {'visible': False}, {'visible': False}, {'visible': False}, {'visible': False}, {'visible': False}, {'visible': False}, {'visible': False}, {'visible': False}, {'visible': False}, {'visible': False}, {'visible': False}, {'visible': False}, {'visible': False}, {'visible': False}, {'visible': False}, {'visible': False}, {'visible': False}, {'visible': False}, {'visible': False}, {'visible': False}, {'visible': False}, {'visible': False}, {'visible': False}, {'visible': False}, {'visible': False}, {'visible': False}, {'visible': False}, {'visible': False}, {'visible': False}, {'visible': False}, {'visible': False}, {'visible': False}, {'visible': False}, {'visible': False}, {'visible': False}, {'visible': False}, {'visible': False}, {'visible': False}, {'visible': False}, {'visible': False}, {'visible': False}, {'visible': False}, {'visible': False}, {'visible': False}, {'visible': False}, {'visible': False}, {'visible': False}, {'visible': False}, {'visible': False}, {'visible': False}, {'visible': False}, {'visible': False}, {'visible': False}, {'visible': False}, {'visible': False}, {'visible': False}, {'visible': False}, {'visible': False}, {'visible': False}]\n\n    The 'args' property is an info array that may be specified as:\n\n    * a list or tuple of up to 3 elements where:\n(0) The 'args[0]' property accepts values of any type\n(1) The 'args[1]' property accepts values of any type\n(2) The 'args[2]' property accepts values of any type"
     ]
    }
   ],
   "source": [
    "# import plotly.express as px\n",
    "\n",
    "# # cols = ['#1f77b4', '#ff7f0e', '#2ca02c', '#d62728', '#9467bd', '#8c564b', '#e377c2', '#7f7f7f', '#bcbd22', '#17becf']\n",
    "\n",
    "# # cols = px.colors.qualitative.Plotly[:len(labels)]\n",
    "# # Create a map figure\n",
    "# fig = px.scatter_mapbox(df, lat=\"latitude\", lon=\"longitude\", hover_name=\"city\", zoom=4, height=600)\n",
    "\n",
    "# # Add the final_labels as a new trace\n",
    "# fig.add_scattermapbox(lat=df['latitude'], lon=df['longitude'], mode='markers', marker=dict(size=5, color=[cols[x] for x in df['final_labels'].tolist()]))\n",
    "\n",
    "# # Set up the search bar\n",
    "# search_bar = \"\"\"\n",
    "# <div style=\"position: absolute; top: 10px; left: 50%; transform: translate(-50%, 0); z-index: 1000;\">\n",
    "#     <form onsubmit=\"searchCity(); return false;\">\n",
    "#         <input type=\"text\" id=\"search-box\" placeholder=\"Search for a city\">\n",
    "#         <input type=\"submit\" value=\"Search\">\n",
    "#     </form>\n",
    "# </div>\n",
    "\n",
    "# <script>\n",
    "# function searchCity() {\n",
    "#     // get the search query from the search box\n",
    "#     var searchQuery = document.getElementById('search-box').value.trim().toLowerCase();\n",
    "\n",
    "#     // find all markers on the map\n",
    "#     var markers = document.getElementsByClassName('scatterlayer')[0].getElementsByClassName('mapboxgl-marker');\n",
    "\n",
    "#     // loop through the markers and show/hide them based on the search query\n",
    "#     for (var i = 0; i < markers.length; i++) {\n",
    "#         var marker = markers[i];\n",
    "#         var markerCity = marker.getAttribute('data-hovertext').toLowerCase();\n",
    "#         if (markerCity.includes(searchQuery)) {\n",
    "#             marker.style.display = 'block';\n",
    "#         } else {\n",
    "#             marker.style.display = 'none';\n",
    "#         }\n",
    "#     }\n",
    "# }\n",
    "# </script>\n",
    "# \"\"\"\n",
    "\n",
    "# MAPBOX_TOKEN = \"pk.eyJ1Ijoic2lkbWVodGEyNyIsImEiOiJjbGhkcjFtOTAwcDZuM2VwY2ZpajNvNjVpIn0.hyTG_Wdaz9eG6Zf21lidNA\"\n",
    "\n",
    "# # Add the search bar to the figure layout\n",
    "# fig.update_layout(\n",
    "#     mapbox_style=\"open-street-map\",\n",
    "#     mapbox=dict(accesstoken=MAPBOX_TOKEN, zoom=4, center=dict(lat=df.latitude.mean(), lon=df.longitude.mean())),\n",
    "#     hovermode='closest',\n",
    "#     showlegend=False,\n",
    "#     margin=dict(l=0, r=0, t=30, b=0),\n",
    "#     updatemenus=[dict(type='buttons',\n",
    "#                       showactive=False,\n",
    "#                       buttons=[dict(label='Hide all', method='update',\n",
    "#                                      args=[{'visible': False}]*len(cols)),\n",
    "#                                dict(label='Show all', method='update',\n",
    "#                                      args=[{'visible': True}]*len(cols))])],\n",
    "#     annotations=[dict(text=search_bar, showarrow=False, xref='paper', yref='paper',\n",
    "#                       x=0.5, y=1.05, align='center', font=dict(size=12))],\n",
    "# )\n",
    "\n",
    "# # Save the map as an HTML file\n",
    "# fig.write_html(\"map_plotly.html\")"
   ]
  },
  {
   "cell_type": "code",
   "execution_count": null,
   "id": "83be21a1",
   "metadata": {},
   "outputs": [],
   "source": []
  }
 ],
 "metadata": {
  "kernelspec": {
   "display_name": "Python 3 (ipykernel)",
   "language": "python",
   "name": "python3"
  },
  "language_info": {
   "codemirror_mode": {
    "name": "ipython",
    "version": 3
   },
   "file_extension": ".py",
   "mimetype": "text/x-python",
   "name": "python",
   "nbconvert_exporter": "python",
   "pygments_lexer": "ipython3",
   "version": "3.11.2"
  }
 },
 "nbformat": 4,
 "nbformat_minor": 5
}
